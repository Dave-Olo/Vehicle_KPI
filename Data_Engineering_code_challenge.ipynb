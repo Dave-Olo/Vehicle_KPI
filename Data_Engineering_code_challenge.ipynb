{
 "cells": [
  {
   "cell_type": "code",
   "execution_count": 516,
   "id": "3ee74a02-0e35-47a9-9625-159ee3327eed",
   "metadata": {
    "tags": []
   },
   "outputs": [
    {
     "data": {
      "text/html": [
       "<div>\n",
       "<style scoped>\n",
       "    .dataframe tbody tr th:only-of-type {\n",
       "        vertical-align: middle;\n",
       "    }\n",
       "\n",
       "    .dataframe tbody tr th {\n",
       "        vertical-align: top;\n",
       "    }\n",
       "\n",
       "    .dataframe thead th {\n",
       "        text-align: right;\n",
       "    }\n",
       "</style>\n",
       "<table border=\"1\" class=\"dataframe\">\n",
       "  <thead>\n",
       "    <tr style=\"text-align: right;\">\n",
       "      <th></th>\n",
       "      <th>Make</th>\n",
       "      <th>Model</th>\n",
       "      <th>Year</th>\n",
       "      <th>Engine Displacement</th>\n",
       "      <th>Cylinders</th>\n",
       "      <th>Transmission</th>\n",
       "      <th>Drivetrain</th>\n",
       "      <th>Vehicle Class</th>\n",
       "      <th>Fuel Type</th>\n",
       "      <th>Fuel Barrels/Year</th>\n",
       "      <th>City MPG</th>\n",
       "      <th>Highway MPG</th>\n",
       "      <th>Combined MPG</th>\n",
       "      <th>CO2 Emission Grams/Mile</th>\n",
       "      <th>Fuel Cost/Year</th>\n",
       "    </tr>\n",
       "  </thead>\n",
       "  <tbody>\n",
       "    <tr>\n",
       "      <th>0</th>\n",
       "      <td>AM General</td>\n",
       "      <td>DJ Po Vehicle 2WD</td>\n",
       "      <td>1984</td>\n",
       "      <td>2.5</td>\n",
       "      <td>4.0</td>\n",
       "      <td>Automatic 3-spd</td>\n",
       "      <td>2-Wheel Drive</td>\n",
       "      <td>Special Purpose Vehicle 2WD</td>\n",
       "      <td>Regular</td>\n",
       "      <td>19.388824</td>\n",
       "      <td>18</td>\n",
       "      <td>17</td>\n",
       "      <td>17</td>\n",
       "      <td>522.764706</td>\n",
       "      <td>1950</td>\n",
       "    </tr>\n",
       "    <tr>\n",
       "      <th>1</th>\n",
       "      <td>AM General</td>\n",
       "      <td>FJ8c Post Office</td>\n",
       "      <td>1984</td>\n",
       "      <td>4.2</td>\n",
       "      <td>6.0</td>\n",
       "      <td>Automatic 3-spd</td>\n",
       "      <td>2-Wheel Drive</td>\n",
       "      <td>Special Purpose Vehicle 2WD</td>\n",
       "      <td>Regular</td>\n",
       "      <td>25.354615</td>\n",
       "      <td>13</td>\n",
       "      <td>13</td>\n",
       "      <td>13</td>\n",
       "      <td>683.615385</td>\n",
       "      <td>2550</td>\n",
       "    </tr>\n",
       "    <tr>\n",
       "      <th>2</th>\n",
       "      <td>AM General</td>\n",
       "      <td>Post Office DJ5 2WD</td>\n",
       "      <td>1985</td>\n",
       "      <td>2.5</td>\n",
       "      <td>4.0</td>\n",
       "      <td>Automatic 3-spd</td>\n",
       "      <td>Rear-Wheel Drive</td>\n",
       "      <td>Special Purpose Vehicle 2WD</td>\n",
       "      <td>Regular</td>\n",
       "      <td>20.600625</td>\n",
       "      <td>16</td>\n",
       "      <td>17</td>\n",
       "      <td>16</td>\n",
       "      <td>555.437500</td>\n",
       "      <td>2100</td>\n",
       "    </tr>\n",
       "    <tr>\n",
       "      <th>3</th>\n",
       "      <td>AM General</td>\n",
       "      <td>Post Office DJ8 2WD</td>\n",
       "      <td>1985</td>\n",
       "      <td>4.2</td>\n",
       "      <td>6.0</td>\n",
       "      <td>Automatic 3-spd</td>\n",
       "      <td>Rear-Wheel Drive</td>\n",
       "      <td>Special Purpose Vehicle 2WD</td>\n",
       "      <td>Regular</td>\n",
       "      <td>25.354615</td>\n",
       "      <td>13</td>\n",
       "      <td>13</td>\n",
       "      <td>13</td>\n",
       "      <td>683.615385</td>\n",
       "      <td>2550</td>\n",
       "    </tr>\n",
       "    <tr>\n",
       "      <th>4</th>\n",
       "      <td>ASC Incorporated</td>\n",
       "      <td>GNX</td>\n",
       "      <td>1987</td>\n",
       "      <td>3.8</td>\n",
       "      <td>6.0</td>\n",
       "      <td>Automatic 4-spd</td>\n",
       "      <td>Rear-Wheel Drive</td>\n",
       "      <td>Midsize Cars</td>\n",
       "      <td>Premium</td>\n",
       "      <td>20.600625</td>\n",
       "      <td>14</td>\n",
       "      <td>21</td>\n",
       "      <td>16</td>\n",
       "      <td>555.437500</td>\n",
       "      <td>2550</td>\n",
       "    </tr>\n",
       "  </tbody>\n",
       "</table>\n",
       "</div>"
      ],
      "text/plain": [
       "               Make                Model  Year  Engine Displacement  \\\n",
       "0        AM General    DJ Po Vehicle 2WD  1984                  2.5   \n",
       "1        AM General     FJ8c Post Office  1984                  4.2   \n",
       "2        AM General  Post Office DJ5 2WD  1985                  2.5   \n",
       "3        AM General  Post Office DJ8 2WD  1985                  4.2   \n",
       "4  ASC Incorporated                  GNX  1987                  3.8   \n",
       "\n",
       "   Cylinders     Transmission        Drivetrain                Vehicle Class  \\\n",
       "0        4.0  Automatic 3-spd     2-Wheel Drive  Special Purpose Vehicle 2WD   \n",
       "1        6.0  Automatic 3-spd     2-Wheel Drive  Special Purpose Vehicle 2WD   \n",
       "2        4.0  Automatic 3-spd  Rear-Wheel Drive  Special Purpose Vehicle 2WD   \n",
       "3        6.0  Automatic 3-spd  Rear-Wheel Drive  Special Purpose Vehicle 2WD   \n",
       "4        6.0  Automatic 4-spd  Rear-Wheel Drive                 Midsize Cars   \n",
       "\n",
       "  Fuel Type  Fuel Barrels/Year  City MPG  Highway MPG  Combined MPG  \\\n",
       "0   Regular          19.388824        18           17            17   \n",
       "1   Regular          25.354615        13           13            13   \n",
       "2   Regular          20.600625        16           17            16   \n",
       "3   Regular          25.354615        13           13            13   \n",
       "4   Premium          20.600625        14           21            16   \n",
       "\n",
       "   CO2 Emission Grams/Mile  Fuel Cost/Year  \n",
       "0               522.764706            1950  \n",
       "1               683.615385            2550  \n",
       "2               555.437500            2100  \n",
       "3               683.615385            2550  \n",
       "4               555.437500            2550  "
      ]
     },
     "execution_count": 516,
     "metadata": {},
     "output_type": "execute_result"
    }
   ],
   "source": [
    "import pandas as pd\n",
    "import numpy as np\n",
    "url = \"https://storage.googleapis.com/deb-evaluation-materials/vehicles.csv\"\n",
    "df = pd.read_csv(url)\n",
    "df.head()"
   ]
  },
  {
   "cell_type": "code",
   "execution_count": 517,
   "id": "e71d7b98-5916-4e15-b111-50ef838980d7",
   "metadata": {
    "tags": []
   },
   "outputs": [
    {
     "name": "stdout",
     "output_type": "stream",
     "text": [
      "<class 'pandas.core.frame.DataFrame'>\n",
      "RangeIndex: 35952 entries, 0 to 35951\n",
      "Data columns (total 15 columns):\n",
      " #   Column                   Non-Null Count  Dtype  \n",
      "---  ------                   --------------  -----  \n",
      " 0   Make                     35952 non-null  object \n",
      " 1   Model                    35952 non-null  object \n",
      " 2   Year                     35952 non-null  int64  \n",
      " 3   Engine Displacement      35952 non-null  float64\n",
      " 4   Cylinders                35952 non-null  float64\n",
      " 5   Transmission             35952 non-null  object \n",
      " 6   Drivetrain               35952 non-null  object \n",
      " 7   Vehicle Class            35952 non-null  object \n",
      " 8   Fuel Type                35952 non-null  object \n",
      " 9   Fuel Barrels/Year        35952 non-null  float64\n",
      " 10  City MPG                 35952 non-null  int64  \n",
      " 11  Highway MPG              35952 non-null  int64  \n",
      " 12  Combined MPG             35952 non-null  int64  \n",
      " 13  CO2 Emission Grams/Mile  35952 non-null  float64\n",
      " 14  Fuel Cost/Year           35952 non-null  int64  \n",
      "dtypes: float64(4), int64(5), object(6)\n",
      "memory usage: 4.1+ MB\n"
     ]
    }
   ],
   "source": [
    "df.info()"
   ]
  },
  {
   "cell_type": "code",
   "execution_count": 518,
   "id": "7a314e31-4972-48f5-b152-b29ffc9db37d",
   "metadata": {
    "tags": []
   },
   "outputs": [
    {
     "data": {
      "text/plain": [
       "(35952, 15)"
      ]
     },
     "execution_count": 518,
     "metadata": {},
     "output_type": "execute_result"
    }
   ],
   "source": [
    "df.shape"
   ]
  },
  {
   "cell_type": "code",
   "execution_count": null,
   "id": "ada6ffbf-e993-400c-9be6-f78ba621e591",
   "metadata": {},
   "outputs": [],
   "source": [
    "##Q1. What is the average CO2 emmission per gram/mile of all Volkswagen cars?"
   ]
  },
  {
   "cell_type": "code",
   "execution_count": 519,
   "id": "e5ba8474-d137-4ca3-a567-23b6af288cc2",
   "metadata": {
    "tags": []
   },
   "outputs": [],
   "source": [
    "df1 = df.groupby('Make')['Make'].agg('count')"
   ]
  },
  {
   "cell_type": "code",
   "execution_count": 520,
   "id": "25e0707a-117d-485f-a695-b031f7cb05cf",
   "metadata": {
    "tags": []
   },
   "outputs": [
    {
     "data": {
      "text/plain": [
       "Make\n",
       "AM General                        4\n",
       "ASC Incorporated                  1\n",
       "Acura                           302\n",
       "Alfa Romeo                       41\n",
       "American Motors Corporation      22\n",
       "                               ... \n",
       "Volkswagen                     1047\n",
       "Volvo                           717\n",
       "Wallace Environmental            32\n",
       "Yugo                              8\n",
       "smart                            20\n",
       "Name: Make, Length: 127, dtype: int64"
      ]
     },
     "execution_count": 520,
     "metadata": {},
     "output_type": "execute_result"
    }
   ],
   "source": [
    "df1"
   ]
  },
  {
   "cell_type": "code",
   "execution_count": 521,
   "id": "da720eed-ecfd-4d4a-9b58-6ff0af112c4f",
   "metadata": {
    "tags": []
   },
   "outputs": [
    {
     "data": {
      "text/plain": [
       "(127,)"
      ]
     },
     "execution_count": 521,
     "metadata": {},
     "output_type": "execute_result"
    }
   ],
   "source": [
    "df1.shape"
   ]
  },
  {
   "cell_type": "code",
   "execution_count": 522,
   "id": "d248aa03-4146-4246-bb6a-c43b8feaa4f1",
   "metadata": {
    "tags": []
   },
   "outputs": [],
   "source": [
    "df2 = df[df.Make == 'Volkswagen']"
   ]
  },
  {
   "cell_type": "code",
   "execution_count": 523,
   "id": "c574d4d5-edaa-4ed2-adad-061a1f67c725",
   "metadata": {
    "tags": []
   },
   "outputs": [
    {
     "data": {
      "text/html": [
       "<div>\n",
       "<style scoped>\n",
       "    .dataframe tbody tr th:only-of-type {\n",
       "        vertical-align: middle;\n",
       "    }\n",
       "\n",
       "    .dataframe tbody tr th {\n",
       "        vertical-align: top;\n",
       "    }\n",
       "\n",
       "    .dataframe thead th {\n",
       "        text-align: right;\n",
       "    }\n",
       "</style>\n",
       "<table border=\"1\" class=\"dataframe\">\n",
       "  <thead>\n",
       "    <tr style=\"text-align: right;\">\n",
       "      <th></th>\n",
       "      <th>Make</th>\n",
       "      <th>Model</th>\n",
       "      <th>Year</th>\n",
       "      <th>Engine Displacement</th>\n",
       "      <th>Cylinders</th>\n",
       "      <th>Transmission</th>\n",
       "      <th>Drivetrain</th>\n",
       "      <th>Vehicle Class</th>\n",
       "      <th>Fuel Type</th>\n",
       "      <th>Fuel Barrels/Year</th>\n",
       "      <th>City MPG</th>\n",
       "      <th>Highway MPG</th>\n",
       "      <th>Combined MPG</th>\n",
       "      <th>CO2 Emission Grams/Mile</th>\n",
       "      <th>Fuel Cost/Year</th>\n",
       "    </tr>\n",
       "  </thead>\n",
       "  <tbody>\n",
       "    <tr>\n",
       "      <th>34128</th>\n",
       "      <td>Volkswagen</td>\n",
       "      <td>Beetle</td>\n",
       "      <td>2012</td>\n",
       "      <td>2.0</td>\n",
       "      <td>4.0</td>\n",
       "      <td>Automatic (S6)</td>\n",
       "      <td>Front-Wheel Drive</td>\n",
       "      <td>Subcompact Cars</td>\n",
       "      <td>Premium</td>\n",
       "      <td>13.184400</td>\n",
       "      <td>22</td>\n",
       "      <td>30</td>\n",
       "      <td>25</td>\n",
       "      <td>355.480000</td>\n",
       "      <td>1600</td>\n",
       "    </tr>\n",
       "    <tr>\n",
       "      <th>34129</th>\n",
       "      <td>Volkswagen</td>\n",
       "      <td>Beetle</td>\n",
       "      <td>2012</td>\n",
       "      <td>2.5</td>\n",
       "      <td>5.0</td>\n",
       "      <td>Automatic (S6)</td>\n",
       "      <td>Front-Wheel Drive</td>\n",
       "      <td>Subcompact Cars</td>\n",
       "      <td>Regular</td>\n",
       "      <td>13.184400</td>\n",
       "      <td>22</td>\n",
       "      <td>29</td>\n",
       "      <td>25</td>\n",
       "      <td>355.480000</td>\n",
       "      <td>1350</td>\n",
       "    </tr>\n",
       "    <tr>\n",
       "      <th>34130</th>\n",
       "      <td>Volkswagen</td>\n",
       "      <td>Beetle</td>\n",
       "      <td>2012</td>\n",
       "      <td>2.0</td>\n",
       "      <td>4.0</td>\n",
       "      <td>Manual 6-spd</td>\n",
       "      <td>Front-Wheel Drive</td>\n",
       "      <td>Subcompact Cars</td>\n",
       "      <td>Premium</td>\n",
       "      <td>13.733750</td>\n",
       "      <td>21</td>\n",
       "      <td>30</td>\n",
       "      <td>24</td>\n",
       "      <td>370.291667</td>\n",
       "      <td>1700</td>\n",
       "    </tr>\n",
       "    <tr>\n",
       "      <th>34131</th>\n",
       "      <td>Volkswagen</td>\n",
       "      <td>Beetle</td>\n",
       "      <td>2012</td>\n",
       "      <td>2.5</td>\n",
       "      <td>5.0</td>\n",
       "      <td>Manual 5-spd</td>\n",
       "      <td>Front-Wheel Drive</td>\n",
       "      <td>Subcompact Cars</td>\n",
       "      <td>Regular</td>\n",
       "      <td>13.184400</td>\n",
       "      <td>22</td>\n",
       "      <td>31</td>\n",
       "      <td>25</td>\n",
       "      <td>355.480000</td>\n",
       "      <td>1350</td>\n",
       "    </tr>\n",
       "    <tr>\n",
       "      <th>34132</th>\n",
       "      <td>Volkswagen</td>\n",
       "      <td>Beetle</td>\n",
       "      <td>2013</td>\n",
       "      <td>2.0</td>\n",
       "      <td>4.0</td>\n",
       "      <td>Manual 6-spd</td>\n",
       "      <td>Front-Wheel Drive</td>\n",
       "      <td>Compact Cars</td>\n",
       "      <td>Diesel</td>\n",
       "      <td>11.943281</td>\n",
       "      <td>28</td>\n",
       "      <td>41</td>\n",
       "      <td>32</td>\n",
       "      <td>313.000000</td>\n",
       "      <td>1150</td>\n",
       "    </tr>\n",
       "  </tbody>\n",
       "</table>\n",
       "</div>"
      ],
      "text/plain": [
       "             Make   Model  Year  Engine Displacement  Cylinders  \\\n",
       "34128  Volkswagen  Beetle  2012                  2.0        4.0   \n",
       "34129  Volkswagen  Beetle  2012                  2.5        5.0   \n",
       "34130  Volkswagen  Beetle  2012                  2.0        4.0   \n",
       "34131  Volkswagen  Beetle  2012                  2.5        5.0   \n",
       "34132  Volkswagen  Beetle  2013                  2.0        4.0   \n",
       "\n",
       "         Transmission         Drivetrain    Vehicle Class Fuel Type  \\\n",
       "34128  Automatic (S6)  Front-Wheel Drive  Subcompact Cars   Premium   \n",
       "34129  Automatic (S6)  Front-Wheel Drive  Subcompact Cars   Regular   \n",
       "34130    Manual 6-spd  Front-Wheel Drive  Subcompact Cars   Premium   \n",
       "34131    Manual 5-spd  Front-Wheel Drive  Subcompact Cars   Regular   \n",
       "34132    Manual 6-spd  Front-Wheel Drive     Compact Cars    Diesel   \n",
       "\n",
       "       Fuel Barrels/Year  City MPG  Highway MPG  Combined MPG  \\\n",
       "34128          13.184400        22           30            25   \n",
       "34129          13.184400        22           29            25   \n",
       "34130          13.733750        21           30            24   \n",
       "34131          13.184400        22           31            25   \n",
       "34132          11.943281        28           41            32   \n",
       "\n",
       "       CO2 Emission Grams/Mile  Fuel Cost/Year  \n",
       "34128               355.480000            1600  \n",
       "34129               355.480000            1350  \n",
       "34130               370.291667            1700  \n",
       "34131               355.480000            1350  \n",
       "34132               313.000000            1150  "
      ]
     },
     "execution_count": 523,
     "metadata": {},
     "output_type": "execute_result"
    }
   ],
   "source": [
    "df2.head()"
   ]
  },
  {
   "cell_type": "code",
   "execution_count": 524,
   "id": "925495ac-f5a1-4248-b735-d5161987b545",
   "metadata": {
    "tags": []
   },
   "outputs": [
    {
     "data": {
      "text/plain": [
       "(1047, 15)"
      ]
     },
     "execution_count": 524,
     "metadata": {},
     "output_type": "execute_result"
    }
   ],
   "source": [
    "df2.shape"
   ]
  },
  {
   "cell_type": "code",
   "execution_count": 525,
   "id": "08337ad1-ece5-4959-ab45-d43d6269fc6b",
   "metadata": {
    "tags": []
   },
   "outputs": [],
   "source": [
    "avg_volkswagen_CO2_emmission = (df2['CO2 Emission Grams/Mile'].mean())"
   ]
  },
  {
   "cell_type": "code",
   "execution_count": 526,
   "id": "af34f37d-bc8d-46cf-b7fc-d5c112a80b6c",
   "metadata": {
    "tags": []
   },
   "outputs": [],
   "source": [
    "Q1 = avg_volkswagen_CO2_emmission"
   ]
  },
  {
   "cell_type": "code",
   "execution_count": 527,
   "id": "e1a3f732-212f-467f-bb2e-1988e83c81c1",
   "metadata": {
    "tags": []
   },
   "outputs": [
    {
     "name": "stdout",
     "output_type": "stream",
     "text": [
      "392.74172108576107\n"
     ]
    }
   ],
   "source": [
    "print(Q1)"
   ]
  },
  {
   "cell_type": "code",
   "execution_count": 529,
   "id": "8016b524-c6a2-4cf4-b761-1f067b51e865",
   "metadata": {
    "tags": []
   },
   "outputs": [
    {
     "name": "stdout",
     "output_type": "stream",
     "text": [
      "           count\n",
      "Make            \n",
      "Chevrolet   3643\n",
      "Ford        2946\n",
      "Dodge       2360\n",
      "GMC         2347\n",
      "Toyota      1836\n"
     ]
    }
   ],
   "source": [
    "df_make = df.groupby('Make')['Model'].agg(count='count').sort_values(by='count', ascending=False).head(5)\n",
    "print(df_make)"
   ]
  },
  {
   "cell_type": "code",
   "execution_count": 530,
   "id": "213cd9bd-c57d-458f-a5f3-0b58fdb237d0",
   "metadata": {
    "tags": []
   },
   "outputs": [
    {
     "name": "stdout",
     "output_type": "stream",
     "text": [
      "[[3643], [2946], [2360], [2347], [1836]]\n"
     ]
    }
   ],
   "source": [
    "df_make_list = df_make.values.tolist()\n",
    "print(df_make_list)"
   ]
  },
  {
   "cell_type": "code",
   "execution_count": 531,
   "id": "d68a3e17-6ebd-4353-a5be-b7d23011c3b9",
   "metadata": {
    "tags": []
   },
   "outputs": [
    {
     "name": "stdout",
     "output_type": "stream",
     "text": [
      "[['Chevrolet', 3643], ['Ford', 2946], ['Dodge', 2360], ['GMC', 2347], ['Toyota', 1836]]\n"
     ]
    }
   ],
   "source": [
    "data = {'Make': ['Chevrolet', 'Ford', 'Dodge', 'GMC', 'Toyota'],\n",
    "        'count': [3643, 2946, 2360, 2347, 1836]}\n",
    "df_Q2= pd.DataFrame(data)\n",
    "\n",
    "# Convert each row to a list\n",
    "Q2= df_Q2.values.tolist()\n",
    "\n",
    "print(Q2)"
   ]
  },
  {
   "cell_type": "code",
   "execution_count": null,
   "id": "a139b493-a618-4d44-a8a6-9bd2725549ec",
   "metadata": {},
   "outputs": [],
   "source": [
    "##Q3. What are all the different types of fuels in the dataset sorted alphabetically?"
   ]
  },
  {
   "cell_type": "code",
   "execution_count": 532,
   "id": "7ac2fbc2-c56b-4867-a9e9-78f52d318215",
   "metadata": {
    "tags": []
   },
   "outputs": [],
   "source": [
    "df_fuel_type = df['Fuel Type'].unique()\n",
    "Q3 = df_fuel_type.tolist()"
   ]
  },
  {
   "cell_type": "code",
   "execution_count": 533,
   "id": "c55f953f-2fe8-4888-87f1-53315f656b06",
   "metadata": {
    "tags": []
   },
   "outputs": [
    {
     "name": "stdout",
     "output_type": "stream",
     "text": [
      "['Regular', 'Premium', 'Diesel', 'Premium and Electricity', 'Premium or E85', 'Premium Gas or Electricity', 'Gasoline or E85', 'Gasoline or natural gas', 'CNG', 'Regular Gas or Electricity', 'Midgrade', 'Regular Gas and Electricity', 'Gasoline or propane']\n"
     ]
    }
   ],
   "source": [
    "print(Q3)"
   ]
  },
  {
   "cell_type": "code",
   "execution_count": 534,
   "id": "46334944-25a6-4fb6-a959-db29232461c6",
   "metadata": {
    "tags": []
   },
   "outputs": [
    {
     "data": {
      "text/html": [
       "<div>\n",
       "<style scoped>\n",
       "    .dataframe tbody tr th:only-of-type {\n",
       "        vertical-align: middle;\n",
       "    }\n",
       "\n",
       "    .dataframe tbody tr th {\n",
       "        vertical-align: top;\n",
       "    }\n",
       "\n",
       "    .dataframe thead th {\n",
       "        text-align: right;\n",
       "    }\n",
       "</style>\n",
       "<table border=\"1\" class=\"dataframe\">\n",
       "  <thead>\n",
       "    <tr style=\"text-align: right;\">\n",
       "      <th></th>\n",
       "      <th>Make</th>\n",
       "      <th>Model</th>\n",
       "      <th>Year</th>\n",
       "      <th>Engine Displacement</th>\n",
       "      <th>Cylinders</th>\n",
       "      <th>Transmission</th>\n",
       "      <th>Drivetrain</th>\n",
       "      <th>Vehicle Class</th>\n",
       "      <th>Fuel Type</th>\n",
       "      <th>Fuel Barrels/Year</th>\n",
       "      <th>City MPG</th>\n",
       "      <th>Highway MPG</th>\n",
       "      <th>Combined MPG</th>\n",
       "      <th>CO2 Emission Grams/Mile</th>\n",
       "      <th>Fuel Cost/Year</th>\n",
       "    </tr>\n",
       "  </thead>\n",
       "  <tbody>\n",
       "    <tr>\n",
       "      <th>32281</th>\n",
       "      <td>Toyota</td>\n",
       "      <td>1-Ton Truck 2WD</td>\n",
       "      <td>1985</td>\n",
       "      <td>2.4</td>\n",
       "      <td>4.0</td>\n",
       "      <td>Automatic 4-spd</td>\n",
       "      <td>Rear-Wheel Drive</td>\n",
       "      <td>Standard Pickup Trucks</td>\n",
       "      <td>Regular</td>\n",
       "      <td>15.695714</td>\n",
       "      <td>20</td>\n",
       "      <td>23</td>\n",
       "      <td>21</td>\n",
       "      <td>423.190476</td>\n",
       "      <td>1600</td>\n",
       "    </tr>\n",
       "    <tr>\n",
       "      <th>32282</th>\n",
       "      <td>Toyota</td>\n",
       "      <td>1-Ton Truck 2WD</td>\n",
       "      <td>1985</td>\n",
       "      <td>2.4</td>\n",
       "      <td>4.0</td>\n",
       "      <td>Manual 5-spd</td>\n",
       "      <td>Rear-Wheel Drive</td>\n",
       "      <td>Standard Pickup Trucks</td>\n",
       "      <td>Regular</td>\n",
       "      <td>15.695714</td>\n",
       "      <td>19</td>\n",
       "      <td>24</td>\n",
       "      <td>21</td>\n",
       "      <td>423.190476</td>\n",
       "      <td>1600</td>\n",
       "    </tr>\n",
       "    <tr>\n",
       "      <th>32283</th>\n",
       "      <td>Toyota</td>\n",
       "      <td>1-Ton Truck 2WD</td>\n",
       "      <td>1986</td>\n",
       "      <td>2.4</td>\n",
       "      <td>4.0</td>\n",
       "      <td>Automatic 4-spd</td>\n",
       "      <td>Rear-Wheel Drive</td>\n",
       "      <td>Standard Pickup Trucks</td>\n",
       "      <td>Regular</td>\n",
       "      <td>15.695714</td>\n",
       "      <td>20</td>\n",
       "      <td>23</td>\n",
       "      <td>21</td>\n",
       "      <td>423.190476</td>\n",
       "      <td>1600</td>\n",
       "    </tr>\n",
       "    <tr>\n",
       "      <th>32284</th>\n",
       "      <td>Toyota</td>\n",
       "      <td>1-Ton Truck 2WD</td>\n",
       "      <td>1986</td>\n",
       "      <td>2.4</td>\n",
       "      <td>4.0</td>\n",
       "      <td>Manual 5-spd</td>\n",
       "      <td>Rear-Wheel Drive</td>\n",
       "      <td>Standard Pickup Trucks</td>\n",
       "      <td>Regular</td>\n",
       "      <td>14.330870</td>\n",
       "      <td>21</td>\n",
       "      <td>26</td>\n",
       "      <td>23</td>\n",
       "      <td>386.391304</td>\n",
       "      <td>1450</td>\n",
       "    </tr>\n",
       "    <tr>\n",
       "      <th>32285</th>\n",
       "      <td>Toyota</td>\n",
       "      <td>1-Ton Truck 2WD</td>\n",
       "      <td>1987</td>\n",
       "      <td>2.4</td>\n",
       "      <td>4.0</td>\n",
       "      <td>Automatic 4-spd</td>\n",
       "      <td>Rear-Wheel Drive</td>\n",
       "      <td>Standard Pickup Trucks</td>\n",
       "      <td>Regular</td>\n",
       "      <td>15.695714</td>\n",
       "      <td>20</td>\n",
       "      <td>23</td>\n",
       "      <td>21</td>\n",
       "      <td>423.190476</td>\n",
       "      <td>1600</td>\n",
       "    </tr>\n",
       "  </tbody>\n",
       "</table>\n",
       "</div>"
      ],
      "text/plain": [
       "         Make            Model  Year  Engine Displacement  Cylinders  \\\n",
       "32281  Toyota  1-Ton Truck 2WD  1985                  2.4        4.0   \n",
       "32282  Toyota  1-Ton Truck 2WD  1985                  2.4        4.0   \n",
       "32283  Toyota  1-Ton Truck 2WD  1986                  2.4        4.0   \n",
       "32284  Toyota  1-Ton Truck 2WD  1986                  2.4        4.0   \n",
       "32285  Toyota  1-Ton Truck 2WD  1987                  2.4        4.0   \n",
       "\n",
       "          Transmission        Drivetrain           Vehicle Class Fuel Type  \\\n",
       "32281  Automatic 4-spd  Rear-Wheel Drive  Standard Pickup Trucks   Regular   \n",
       "32282     Manual 5-spd  Rear-Wheel Drive  Standard Pickup Trucks   Regular   \n",
       "32283  Automatic 4-spd  Rear-Wheel Drive  Standard Pickup Trucks   Regular   \n",
       "32284     Manual 5-spd  Rear-Wheel Drive  Standard Pickup Trucks   Regular   \n",
       "32285  Automatic 4-spd  Rear-Wheel Drive  Standard Pickup Trucks   Regular   \n",
       "\n",
       "       Fuel Barrels/Year  City MPG  Highway MPG  Combined MPG  \\\n",
       "32281          15.695714        20           23            21   \n",
       "32282          15.695714        19           24            21   \n",
       "32283          15.695714        20           23            21   \n",
       "32284          14.330870        21           26            23   \n",
       "32285          15.695714        20           23            21   \n",
       "\n",
       "       CO2 Emission Grams/Mile  Fuel Cost/Year  \n",
       "32281               423.190476            1600  \n",
       "32282               423.190476            1600  \n",
       "32283               423.190476            1600  \n",
       "32284               386.391304            1450  \n",
       "32285               423.190476            1600  "
      ]
     },
     "execution_count": 534,
     "metadata": {},
     "output_type": "execute_result"
    }
   ],
   "source": [
    "df_toyota = df[df.Make == 'Toyota']\n",
    "df_toyota.head()"
   ]
  },
  {
   "cell_type": "code",
   "execution_count": 535,
   "id": "863496f8-5c81-486a-a7a2-a48ab4daa2a1",
   "metadata": {
    "tags": []
   },
   "outputs": [
    {
     "data": {
      "text/html": [
       "<div>\n",
       "<style scoped>\n",
       "    .dataframe tbody tr th:only-of-type {\n",
       "        vertical-align: middle;\n",
       "    }\n",
       "\n",
       "    .dataframe tbody tr th {\n",
       "        vertical-align: top;\n",
       "    }\n",
       "\n",
       "    .dataframe thead th {\n",
       "        text-align: right;\n",
       "    }\n",
       "</style>\n",
       "<table border=\"1\" class=\"dataframe\">\n",
       "  <thead>\n",
       "    <tr style=\"text-align: right;\">\n",
       "      <th></th>\n",
       "      <th>Make</th>\n",
       "      <th>Model</th>\n",
       "      <th>Year</th>\n",
       "      <th>Engine Displacement</th>\n",
       "      <th>Cylinders</th>\n",
       "      <th>Transmission</th>\n",
       "      <th>Drivetrain</th>\n",
       "      <th>Vehicle Class</th>\n",
       "      <th>Fuel Type</th>\n",
       "      <th>Fuel Barrels/Year</th>\n",
       "      <th>City MPG</th>\n",
       "      <th>Highway MPG</th>\n",
       "      <th>Combined MPG</th>\n",
       "      <th>CO2 Emission Grams/Mile</th>\n",
       "      <th>Fuel Cost/Year</th>\n",
       "    </tr>\n",
       "  </thead>\n",
       "  <tbody>\n",
       "    <tr>\n",
       "      <th>32479</th>\n",
       "      <td>Toyota</td>\n",
       "      <td>Cab/Chassis 2WD</td>\n",
       "      <td>1992</td>\n",
       "      <td>3.0</td>\n",
       "      <td>6.0</td>\n",
       "      <td>Automatic 4-spd</td>\n",
       "      <td>Rear-Wheel Drive</td>\n",
       "      <td>Special Purpose Vehicles</td>\n",
       "      <td>Regular</td>\n",
       "      <td>32.961000</td>\n",
       "      <td>10</td>\n",
       "      <td>10</td>\n",
       "      <td>10</td>\n",
       "      <td>888.700000</td>\n",
       "      <td>3350</td>\n",
       "    </tr>\n",
       "    <tr>\n",
       "      <th>32473</th>\n",
       "      <td>Toyota</td>\n",
       "      <td>Cab/Chassis 2WD</td>\n",
       "      <td>1989</td>\n",
       "      <td>3.0</td>\n",
       "      <td>6.0</td>\n",
       "      <td>Automatic 4-spd</td>\n",
       "      <td>Rear-Wheel Drive</td>\n",
       "      <td>Special Purpose Vehicle 2WD</td>\n",
       "      <td>Regular</td>\n",
       "      <td>32.961000</td>\n",
       "      <td>10</td>\n",
       "      <td>11</td>\n",
       "      <td>10</td>\n",
       "      <td>888.700000</td>\n",
       "      <td>3350</td>\n",
       "    </tr>\n",
       "    <tr>\n",
       "      <th>32481</th>\n",
       "      <td>Toyota</td>\n",
       "      <td>Cab/Chassis 2WD</td>\n",
       "      <td>1993</td>\n",
       "      <td>3.0</td>\n",
       "      <td>6.0</td>\n",
       "      <td>Automatic 4-spd</td>\n",
       "      <td>Rear-Wheel Drive</td>\n",
       "      <td>Special Purpose Vehicles</td>\n",
       "      <td>Regular</td>\n",
       "      <td>32.961000</td>\n",
       "      <td>10</td>\n",
       "      <td>10</td>\n",
       "      <td>10</td>\n",
       "      <td>888.700000</td>\n",
       "      <td>3350</td>\n",
       "    </tr>\n",
       "    <tr>\n",
       "      <th>32475</th>\n",
       "      <td>Toyota</td>\n",
       "      <td>Cab/Chassis 2WD</td>\n",
       "      <td>1990</td>\n",
       "      <td>3.0</td>\n",
       "      <td>6.0</td>\n",
       "      <td>Automatic 4-spd</td>\n",
       "      <td>Rear-Wheel Drive</td>\n",
       "      <td>Special Purpose Vehicle 2WD</td>\n",
       "      <td>Regular</td>\n",
       "      <td>32.961000</td>\n",
       "      <td>10</td>\n",
       "      <td>10</td>\n",
       "      <td>10</td>\n",
       "      <td>888.700000</td>\n",
       "      <td>3350</td>\n",
       "    </tr>\n",
       "    <tr>\n",
       "      <th>32477</th>\n",
       "      <td>Toyota</td>\n",
       "      <td>Cab/Chassis 2WD</td>\n",
       "      <td>1991</td>\n",
       "      <td>3.0</td>\n",
       "      <td>6.0</td>\n",
       "      <td>Automatic 4-spd</td>\n",
       "      <td>Rear-Wheel Drive</td>\n",
       "      <td>Special Purpose Vehicles</td>\n",
       "      <td>Regular</td>\n",
       "      <td>32.961000</td>\n",
       "      <td>10</td>\n",
       "      <td>10</td>\n",
       "      <td>10</td>\n",
       "      <td>888.700000</td>\n",
       "      <td>3350</td>\n",
       "    </tr>\n",
       "    <tr>\n",
       "      <th>33102</th>\n",
       "      <td>Toyota</td>\n",
       "      <td>Land Cruiser Wagon 4WD</td>\n",
       "      <td>1984</td>\n",
       "      <td>4.2</td>\n",
       "      <td>6.0</td>\n",
       "      <td>Manual 4-spd</td>\n",
       "      <td>4-Wheel or All-Wheel Drive</td>\n",
       "      <td>Special Purpose Vehicle 4WD</td>\n",
       "      <td>Regular</td>\n",
       "      <td>29.964545</td>\n",
       "      <td>10</td>\n",
       "      <td>12</td>\n",
       "      <td>11</td>\n",
       "      <td>807.909091</td>\n",
       "      <td>3050</td>\n",
       "    </tr>\n",
       "    <tr>\n",
       "      <th>33103</th>\n",
       "      <td>Toyota</td>\n",
       "      <td>Land Cruiser Wagon 4WD</td>\n",
       "      <td>1985</td>\n",
       "      <td>4.2</td>\n",
       "      <td>6.0</td>\n",
       "      <td>Manual 4-spd</td>\n",
       "      <td>4-Wheel or All-Wheel Drive</td>\n",
       "      <td>Special Purpose Vehicles</td>\n",
       "      <td>Regular</td>\n",
       "      <td>29.964545</td>\n",
       "      <td>10</td>\n",
       "      <td>12</td>\n",
       "      <td>11</td>\n",
       "      <td>807.909091</td>\n",
       "      <td>3050</td>\n",
       "    </tr>\n",
       "    <tr>\n",
       "      <th>33104</th>\n",
       "      <td>Toyota</td>\n",
       "      <td>Land Cruiser Wagon 4WD</td>\n",
       "      <td>1986</td>\n",
       "      <td>4.2</td>\n",
       "      <td>6.0</td>\n",
       "      <td>Manual 4-spd</td>\n",
       "      <td>4-Wheel Drive</td>\n",
       "      <td>Special Purpose Vehicles</td>\n",
       "      <td>Regular</td>\n",
       "      <td>29.964545</td>\n",
       "      <td>10</td>\n",
       "      <td>12</td>\n",
       "      <td>11</td>\n",
       "      <td>807.909091</td>\n",
       "      <td>3050</td>\n",
       "    </tr>\n",
       "    <tr>\n",
       "      <th>33105</th>\n",
       "      <td>Toyota</td>\n",
       "      <td>Land Cruiser Wagon 4WD</td>\n",
       "      <td>1987</td>\n",
       "      <td>4.2</td>\n",
       "      <td>6.0</td>\n",
       "      <td>Manual 4-spd</td>\n",
       "      <td>4-Wheel or All-Wheel Drive</td>\n",
       "      <td>Special Purpose Vehicles</td>\n",
       "      <td>Regular</td>\n",
       "      <td>29.964545</td>\n",
       "      <td>10</td>\n",
       "      <td>12</td>\n",
       "      <td>11</td>\n",
       "      <td>807.909091</td>\n",
       "      <td>3050</td>\n",
       "    </tr>\n",
       "  </tbody>\n",
       "</table>\n",
       "</div>"
      ],
      "text/plain": [
       "         Make                   Model  Year  Engine Displacement  Cylinders  \\\n",
       "32479  Toyota         Cab/Chassis 2WD  1992                  3.0        6.0   \n",
       "32473  Toyota         Cab/Chassis 2WD  1989                  3.0        6.0   \n",
       "32481  Toyota         Cab/Chassis 2WD  1993                  3.0        6.0   \n",
       "32475  Toyota         Cab/Chassis 2WD  1990                  3.0        6.0   \n",
       "32477  Toyota         Cab/Chassis 2WD  1991                  3.0        6.0   \n",
       "33102  Toyota  Land Cruiser Wagon 4WD  1984                  4.2        6.0   \n",
       "33103  Toyota  Land Cruiser Wagon 4WD  1985                  4.2        6.0   \n",
       "33104  Toyota  Land Cruiser Wagon 4WD  1986                  4.2        6.0   \n",
       "33105  Toyota  Land Cruiser Wagon 4WD  1987                  4.2        6.0   \n",
       "\n",
       "          Transmission                  Drivetrain  \\\n",
       "32479  Automatic 4-spd            Rear-Wheel Drive   \n",
       "32473  Automatic 4-spd            Rear-Wheel Drive   \n",
       "32481  Automatic 4-spd            Rear-Wheel Drive   \n",
       "32475  Automatic 4-spd            Rear-Wheel Drive   \n",
       "32477  Automatic 4-spd            Rear-Wheel Drive   \n",
       "33102     Manual 4-spd  4-Wheel or All-Wheel Drive   \n",
       "33103     Manual 4-spd  4-Wheel or All-Wheel Drive   \n",
       "33104     Manual 4-spd               4-Wheel Drive   \n",
       "33105     Manual 4-spd  4-Wheel or All-Wheel Drive   \n",
       "\n",
       "                     Vehicle Class Fuel Type  Fuel Barrels/Year  City MPG  \\\n",
       "32479     Special Purpose Vehicles   Regular          32.961000        10   \n",
       "32473  Special Purpose Vehicle 2WD   Regular          32.961000        10   \n",
       "32481     Special Purpose Vehicles   Regular          32.961000        10   \n",
       "32475  Special Purpose Vehicle 2WD   Regular          32.961000        10   \n",
       "32477     Special Purpose Vehicles   Regular          32.961000        10   \n",
       "33102  Special Purpose Vehicle 4WD   Regular          29.964545        10   \n",
       "33103     Special Purpose Vehicles   Regular          29.964545        10   \n",
       "33104     Special Purpose Vehicles   Regular          29.964545        10   \n",
       "33105     Special Purpose Vehicles   Regular          29.964545        10   \n",
       "\n",
       "       Highway MPG  Combined MPG  CO2 Emission Grams/Mile  Fuel Cost/Year  \n",
       "32479           10            10               888.700000            3350  \n",
       "32473           11            10               888.700000            3350  \n",
       "32481           10            10               888.700000            3350  \n",
       "32475           10            10               888.700000            3350  \n",
       "32477           10            10               888.700000            3350  \n",
       "33102           12            11               807.909091            3050  \n",
       "33103           12            11               807.909091            3050  \n",
       "33104           12            11               807.909091            3050  \n",
       "33105           12            11               807.909091            3050  "
      ]
     },
     "execution_count": 535,
     "metadata": {},
     "output_type": "execute_result"
    }
   ],
   "source": [
    "df_toyota_fuel_barrier = df_toyota.sort_values('Fuel Barrels/Year', ascending=False)\n",
    "df_toyota_fuel = df_toyota_fuel_barrier.head(9)\n",
    "df_toyota_fuel"
   ]
  },
  {
   "cell_type": "code",
   "execution_count": 536,
   "id": "a3296a50-c388-4dd2-bf9b-8508d0ccafe1",
   "metadata": {
    "tags": []
   },
   "outputs": [
    {
     "name": "stdout",
     "output_type": "stream",
     "text": [
      "                        Model  Year  Fuel Barrels/Year\n",
      "32479         Cab/Chassis 2WD  1992          32.961000\n",
      "32473         Cab/Chassis 2WD  1989          32.961000\n",
      "32481         Cab/Chassis 2WD  1993          32.961000\n",
      "32475         Cab/Chassis 2WD  1990          32.961000\n",
      "32477         Cab/Chassis 2WD  1991          32.961000\n",
      "33102  Land Cruiser Wagon 4WD  1984          29.964545\n",
      "33103  Land Cruiser Wagon 4WD  1985          29.964545\n",
      "33104  Land Cruiser Wagon 4WD  1986          29.964545\n",
      "33105  Land Cruiser Wagon 4WD  1987          29.964545\n"
     ]
    }
   ],
   "source": [
    "df_fuel_barrier = df_toyota_fuel.drop(['Make', 'Engine Displacement', 'Cylinders', 'Transmission', 'Drivetrain', 'Vehicle Class', 'Fuel Type', 'City MPG', 'Highway MPG', 'Combined MPG', 'CO2 Emission Grams/Mile', 'Fuel Cost/Year'],axis='columns')\n",
    "print(df_fuel_barrier)"
   ]
  },
  {
   "cell_type": "code",
   "execution_count": 537,
   "id": "1e23305f-3df0-4ff1-b5f6-d9013b4b5797",
   "metadata": {
    "tags": []
   },
   "outputs": [
    {
     "name": "stdout",
     "output_type": "stream",
     "text": [
      "       Fuel Barrels/Year\n",
      "32479          32.961000\n",
      "32473          32.961000\n",
      "32481          32.961000\n",
      "32475          32.961000\n",
      "32477          32.961000\n",
      "33102          29.964545\n",
      "33103          29.964545\n",
      "33104          29.964545\n",
      "33105          29.964545\n"
     ]
    }
   ],
   "source": [
    "df_clc = df_fuel_barrier.drop(['Model', 'Year'],axis='columns')\n",
    "print(df_clc)"
   ]
  },
  {
   "cell_type": "code",
   "execution_count": 538,
   "id": "b2c42a49-cf66-4554-a0b3-13a2b0ab9508",
   "metadata": {
    "tags": []
   },
   "outputs": [],
   "source": [
    "import scipy.stats as stats"
   ]
  },
  {
   "cell_type": "code",
   "execution_count": 539,
   "id": "88dead43-5287-4b9b-9a61-68b8517445ec",
   "metadata": {
    "tags": []
   },
   "outputs": [
    {
     "name": "stdout",
     "output_type": "stream",
     "text": [
      "       Fuel Barrels/Year\n",
      "32479           0.894427\n",
      "32473           0.894427\n",
      "32481           0.894427\n",
      "32475           0.894427\n",
      "32477           0.894427\n",
      "33102          -1.118034\n",
      "33103          -1.118034\n",
      "33104          -1.118034\n",
      "33105          -1.118034\n"
     ]
    }
   ],
   "source": [
    "df_z = stats.zscore(df_clc)\n",
    "print(df_z)"
   ]
  },
  {
   "cell_type": "code",
   "execution_count": 540,
   "id": "0b21015c-b4e2-42ef-9cc8-fd91cb1df8d0",
   "metadata": {
    "tags": []
   },
   "outputs": [
    {
     "name": "stdout",
     "output_type": "stream",
     "text": [
      "        Z_score\n",
      "32479  0.894427\n",
      "32473  0.894427\n",
      "32481  0.894427\n",
      "32475  0.894427\n",
      "32477  0.894427\n",
      "33102 -1.118034\n",
      "33103 -1.118034\n",
      "33104 -1.118034\n",
      "33105 -1.118034\n"
     ]
    }
   ],
   "source": [
    "df_z.rename(columns = {'Fuel Barrels/Year':'Z_score'}, inplace = True)\n",
    "print(df_z)                "
   ]
  },
  {
   "cell_type": "code",
   "execution_count": 541,
   "id": "c80ad852-96a4-4c4b-bbac-94abbe715ce0",
   "metadata": {
    "tags": []
   },
   "outputs": [
    {
     "name": "stdout",
     "output_type": "stream",
     "text": [
      "                        Model  Year  Fuel Barrels/Year   Z_score\n",
      "32479         Cab/Chassis 2WD  1992          32.961000  0.894427\n",
      "32473         Cab/Chassis 2WD  1989          32.961000  0.894427\n",
      "32481         Cab/Chassis 2WD  1993          32.961000  0.894427\n",
      "32475         Cab/Chassis 2WD  1990          32.961000  0.894427\n",
      "32477         Cab/Chassis 2WD  1991          32.961000  0.894427\n",
      "33102  Land Cruiser Wagon 4WD  1984          29.964545 -1.118034\n",
      "33103  Land Cruiser Wagon 4WD  1985          29.964545 -1.118034\n",
      "33104  Land Cruiser Wagon 4WD  1986          29.964545 -1.118034\n",
      "33105  Land Cruiser Wagon 4WD  1987          29.964545 -1.118034\n"
     ]
    }
   ],
   "source": [
    "df_std = pd.concat([df_fuel_barrier,df_z],axis='columns')\n",
    "print(df_std)"
   ]
  },
  {
   "cell_type": "code",
   "execution_count": 542,
   "id": "cedc1c63-9097-4a99-8c71-444b93a19f3d",
   "metadata": {
    "tags": []
   },
   "outputs": [
    {
     "name": "stdout",
     "output_type": "stream",
     "text": [
      "                        Model  Year   Z_score\n",
      "32479         Cab/Chassis 2WD  1992  0.894427\n",
      "32473         Cab/Chassis 2WD  1989  0.894427\n",
      "32481         Cab/Chassis 2WD  1993  0.894427\n",
      "32475         Cab/Chassis 2WD  1990  0.894427\n",
      "32477         Cab/Chassis 2WD  1991  0.894427\n",
      "33102  Land Cruiser Wagon 4WD  1984 -1.118034\n",
      "33103  Land Cruiser Wagon 4WD  1985 -1.118034\n",
      "33104  Land Cruiser Wagon 4WD  1986 -1.118034\n",
      "33105  Land Cruiser Wagon 4WD  1987 -1.118034\n"
     ]
    }
   ],
   "source": [
    "df7 = df_std.drop(['Fuel Barrels/Year'],axis='columns')\n",
    "print(df7)"
   ]
  },
  {
   "cell_type": "code",
   "execution_count": 543,
   "id": "eca539ff-02fb-479e-9d11-ca09333df493",
   "metadata": {
    "tags": []
   },
   "outputs": [
    {
     "name": "stdout",
     "output_type": "stream",
     "text": [
      "[[['Cab/Chassis 2WD', 1992, 0.894427190999919], ['Cab/Chassis 2WD', 1989, 0.894427190999919], ['Cab/Chassis 2WD', 1993, 0.894427190999919], ['Cab/Chassis 2WD', 1990, 0.894427190999919], ['Cab/Chassis 2WD', 1991, 0.894427190999919], ['Land Cruiser Wagon 4WD', 1984, -1.1180339887498916], ['Land Cruiser Wagon 4WD', 1985, -1.1180339887498916], ['Land Cruiser Wagon 4WD', 1986, -1.1180339887498916], ['Land Cruiser Wagon 4WD', 1987, -1.1180339887498916]]]\n"
     ]
    }
   ],
   "source": [
    "Q4 =[df7.values.tolist()]\n",
    "print(Q4)"
   ]
  },
  {
   "cell_type": "code",
   "execution_count": 544,
   "id": "2816b816-827b-4a63-b6d6-5537fa3983a6",
   "metadata": {
    "tags": []
   },
   "outputs": [
    {
     "data": {
      "text/html": [
       "<div>\n",
       "<style scoped>\n",
       "    .dataframe tbody tr th:only-of-type {\n",
       "        vertical-align: middle;\n",
       "    }\n",
       "\n",
       "    .dataframe tbody tr th {\n",
       "        vertical-align: top;\n",
       "    }\n",
       "\n",
       "    .dataframe thead th {\n",
       "        text-align: right;\n",
       "    }\n",
       "</style>\n",
       "<table border=\"1\" class=\"dataframe\">\n",
       "  <thead>\n",
       "    <tr style=\"text-align: right;\">\n",
       "      <th></th>\n",
       "      <th>Make</th>\n",
       "      <th>Model</th>\n",
       "      <th>Year</th>\n",
       "      <th>Engine Displacement</th>\n",
       "      <th>Cylinders</th>\n",
       "      <th>Transmission</th>\n",
       "      <th>Drivetrain</th>\n",
       "      <th>Vehicle Class</th>\n",
       "      <th>Fuel Type</th>\n",
       "      <th>Fuel Barrels/Year</th>\n",
       "      <th>City MPG</th>\n",
       "      <th>Highway MPG</th>\n",
       "      <th>Combined MPG</th>\n",
       "      <th>CO2 Emission Grams/Mile</th>\n",
       "      <th>Fuel Cost/Year</th>\n",
       "    </tr>\n",
       "  </thead>\n",
       "  <tbody>\n",
       "    <tr>\n",
       "      <th>34369</th>\n",
       "      <td>Volkswagen</td>\n",
       "      <td>Golf</td>\n",
       "      <td>1986</td>\n",
       "      <td>1.8</td>\n",
       "      <td>4.0</td>\n",
       "      <td>Manual 5-spd</td>\n",
       "      <td>Front-Wheel Drive</td>\n",
       "      <td>Compact Cars</td>\n",
       "      <td>Regular</td>\n",
       "      <td>12.677308</td>\n",
       "      <td>23</td>\n",
       "      <td>31</td>\n",
       "      <td>26</td>\n",
       "      <td>341.807692</td>\n",
       "      <td>1300</td>\n",
       "    </tr>\n",
       "    <tr>\n",
       "      <th>34372</th>\n",
       "      <td>Volkswagen</td>\n",
       "      <td>Golf</td>\n",
       "      <td>1987</td>\n",
       "      <td>1.8</td>\n",
       "      <td>4.0</td>\n",
       "      <td>Manual 5-spd</td>\n",
       "      <td>Front-Wheel Drive</td>\n",
       "      <td>Compact Cars</td>\n",
       "      <td>Regular</td>\n",
       "      <td>12.677308</td>\n",
       "      <td>23</td>\n",
       "      <td>31</td>\n",
       "      <td>26</td>\n",
       "      <td>341.807692</td>\n",
       "      <td>1300</td>\n",
       "    </tr>\n",
       "    <tr>\n",
       "      <th>34374</th>\n",
       "      <td>Volkswagen</td>\n",
       "      <td>Golf</td>\n",
       "      <td>1988</td>\n",
       "      <td>1.8</td>\n",
       "      <td>4.0</td>\n",
       "      <td>Manual 5-spd</td>\n",
       "      <td>Front-Wheel Drive</td>\n",
       "      <td>Compact Cars</td>\n",
       "      <td>Regular</td>\n",
       "      <td>13.184400</td>\n",
       "      <td>22</td>\n",
       "      <td>30</td>\n",
       "      <td>25</td>\n",
       "      <td>355.480000</td>\n",
       "      <td>1350</td>\n",
       "    </tr>\n",
       "    <tr>\n",
       "      <th>34377</th>\n",
       "      <td>Volkswagen</td>\n",
       "      <td>Golf</td>\n",
       "      <td>1989</td>\n",
       "      <td>1.8</td>\n",
       "      <td>4.0</td>\n",
       "      <td>Manual 5-spd</td>\n",
       "      <td>Front-Wheel Drive</td>\n",
       "      <td>Compact Cars</td>\n",
       "      <td>Regular</td>\n",
       "      <td>13.184400</td>\n",
       "      <td>22</td>\n",
       "      <td>31</td>\n",
       "      <td>25</td>\n",
       "      <td>355.480000</td>\n",
       "      <td>1350</td>\n",
       "    </tr>\n",
       "    <tr>\n",
       "      <th>34379</th>\n",
       "      <td>Volkswagen</td>\n",
       "      <td>Golf</td>\n",
       "      <td>1999</td>\n",
       "      <td>2.0</td>\n",
       "      <td>4.0</td>\n",
       "      <td>Manual 5-spd</td>\n",
       "      <td>Front-Wheel Drive</td>\n",
       "      <td>Compact Cars</td>\n",
       "      <td>Regular</td>\n",
       "      <td>13.733750</td>\n",
       "      <td>21</td>\n",
       "      <td>28</td>\n",
       "      <td>24</td>\n",
       "      <td>370.291667</td>\n",
       "      <td>1400</td>\n",
       "    </tr>\n",
       "  </tbody>\n",
       "</table>\n",
       "</div>"
      ],
      "text/plain": [
       "             Make Model  Year  Engine Displacement  Cylinders  Transmission  \\\n",
       "34369  Volkswagen  Golf  1986                  1.8        4.0  Manual 5-spd   \n",
       "34372  Volkswagen  Golf  1987                  1.8        4.0  Manual 5-spd   \n",
       "34374  Volkswagen  Golf  1988                  1.8        4.0  Manual 5-spd   \n",
       "34377  Volkswagen  Golf  1989                  1.8        4.0  Manual 5-spd   \n",
       "34379  Volkswagen  Golf  1999                  2.0        4.0  Manual 5-spd   \n",
       "\n",
       "              Drivetrain Vehicle Class Fuel Type  Fuel Barrels/Year  City MPG  \\\n",
       "34369  Front-Wheel Drive  Compact Cars   Regular          12.677308        23   \n",
       "34372  Front-Wheel Drive  Compact Cars   Regular          12.677308        23   \n",
       "34374  Front-Wheel Drive  Compact Cars   Regular          13.184400        22   \n",
       "34377  Front-Wheel Drive  Compact Cars   Regular          13.184400        22   \n",
       "34379  Front-Wheel Drive  Compact Cars   Regular          13.733750        21   \n",
       "\n",
       "       Highway MPG  Combined MPG  CO2 Emission Grams/Mile  Fuel Cost/Year  \n",
       "34369           31            26               341.807692            1300  \n",
       "34372           31            26               341.807692            1300  \n",
       "34374           30            25               355.480000            1350  \n",
       "34377           31            25               355.480000            1350  \n",
       "34379           28            24               370.291667            1400  "
      ]
     },
     "execution_count": 544,
     "metadata": {},
     "output_type": "execute_result"
    }
   ],
   "source": [
    "df_golf = df[(df['Make'] == 'Volkswagen') & (df['Model'] == 'Golf') & (df['Transmission'] == 'Manual 5-spd') & (df['Fuel Type'] == 'Regular')]\n",
    "df_golf.head()"
   ]
  },
  {
   "cell_type": "code",
   "execution_count": 545,
   "id": "e55b1d3b-0c73-4da4-80c9-3335c5762bb1",
   "metadata": {
    "tags": []
   },
   "outputs": [
    {
     "name": "stdout",
     "output_type": "stream",
     "text": [
      "       Year  Combined MPG\n",
      "34369  1986            26\n",
      "34372  1987            26\n",
      "34374  1988            25\n",
      "34377  1989            25\n",
      "34379  1999            24\n",
      "34385  2000            24\n",
      "34391  2001            24\n",
      "34395  2002            24\n",
      "34399  2003            24\n",
      "34403  2004            24\n",
      "34407  2005            24\n",
      "34411  2006            24\n",
      "34412  2010            25\n",
      "34417  2011            26\n",
      "34421  2012            26\n",
      "34427  2013            26\n",
      "34431  2015            30\n",
      "34436  2016            30\n",
      "34438  2017            29\n"
     ]
    }
   ],
   "source": [
    "df_golf_combined_mpg = df_golf.drop(['Make', 'Model', 'Engine Displacement', 'Cylinders', 'Transmission', 'Drivetrain', 'Vehicle Class', 'Fuel Type', 'Fuel Barrels/Year', 'City MPG', 'Highway MPG', 'CO2 Emission Grams/Mile', 'Fuel Cost/Year'],axis='columns')\n",
    "print(df_golf_combined_mpg)"
   ]
  },
  {
   "cell_type": "code",
   "execution_count": 546,
   "id": "f0d6fdfd-794d-4046-84de-60f49910c93f",
   "metadata": {
    "tags": []
   },
   "outputs": [
    {
     "data": {
      "text/html": [
       "<div>\n",
       "<style scoped>\n",
       "    .dataframe tbody tr th:only-of-type {\n",
       "        vertical-align: middle;\n",
       "    }\n",
       "\n",
       "    .dataframe tbody tr th {\n",
       "        vertical-align: top;\n",
       "    }\n",
       "\n",
       "    .dataframe thead th {\n",
       "        text-align: right;\n",
       "    }\n",
       "</style>\n",
       "<table border=\"1\" class=\"dataframe\">\n",
       "  <thead>\n",
       "    <tr style=\"text-align: right;\">\n",
       "      <th></th>\n",
       "      <th>Year</th>\n",
       "      <th>Combined MPG</th>\n",
       "      <th>Combined_MPG_difference</th>\n",
       "    </tr>\n",
       "  </thead>\n",
       "  <tbody>\n",
       "    <tr>\n",
       "      <th>34369</th>\n",
       "      <td>1986</td>\n",
       "      <td>26</td>\n",
       "      <td>NaN</td>\n",
       "    </tr>\n",
       "    <tr>\n",
       "      <th>34372</th>\n",
       "      <td>1987</td>\n",
       "      <td>26</td>\n",
       "      <td>0.0</td>\n",
       "    </tr>\n",
       "    <tr>\n",
       "      <th>34374</th>\n",
       "      <td>1988</td>\n",
       "      <td>25</td>\n",
       "      <td>-1.0</td>\n",
       "    </tr>\n",
       "    <tr>\n",
       "      <th>34377</th>\n",
       "      <td>1989</td>\n",
       "      <td>25</td>\n",
       "      <td>0.0</td>\n",
       "    </tr>\n",
       "    <tr>\n",
       "      <th>34379</th>\n",
       "      <td>1999</td>\n",
       "      <td>24</td>\n",
       "      <td>-1.0</td>\n",
       "    </tr>\n",
       "  </tbody>\n",
       "</table>\n",
       "</div>"
      ],
      "text/plain": [
       "       Year  Combined MPG  Combined_MPG_difference\n",
       "34369  1986            26                      NaN\n",
       "34372  1987            26                      0.0\n",
       "34374  1988            25                     -1.0\n",
       "34377  1989            25                      0.0\n",
       "34379  1999            24                     -1.0"
      ]
     },
     "execution_count": 546,
     "metadata": {},
     "output_type": "execute_result"
    }
   ],
   "source": [
    "df_golf_combined_mpg['Combined_MPG_difference'] = df_golf_combined_mpg['Combined MPG'].diff()\n",
    "df_golf_combined_mpg.head()"
   ]
  },
  {
   "cell_type": "code",
   "execution_count": 547,
   "id": "f292964e-a10c-48b5-9be8-a66f55b34c07",
   "metadata": {
    "tags": []
   },
   "outputs": [
    {
     "name": "stdout",
     "output_type": "stream",
     "text": [
      "       Year  Combined MPG  Combined_MPG_difference\n",
      "34369  1986            26                      0.0\n",
      "34372  1987            26                      0.0\n",
      "34374  1988            25                     -1.0\n",
      "34377  1989            25                      0.0\n",
      "34379  1999            24                     -1.0\n",
      "34385  2000            24                      0.0\n",
      "34391  2001            24                      0.0\n",
      "34395  2002            24                      0.0\n",
      "34399  2003            24                      0.0\n",
      "34403  2004            24                      0.0\n",
      "34407  2005            24                      0.0\n",
      "34411  2006            24                      0.0\n",
      "34412  2010            25                      1.0\n",
      "34417  2011            26                      1.0\n",
      "34421  2012            26                      0.0\n",
      "34427  2013            26                      0.0\n",
      "34431  2015            30                      4.0\n",
      "34436  2016            30                      0.0\n",
      "34438  2017            29                     -1.0\n"
     ]
    }
   ],
   "source": [
    "Q5= df_golf_combined_mpg.fillna(0)\n",
    "print(Q5)"
   ]
  },
  {
   "cell_type": "code",
   "execution_count": 548,
   "id": "27f3c672-7c57-4e8f-9cea-1318b8b63bb0",
   "metadata": {
    "tags": []
   },
   "outputs": [
    {
     "name": "stdout",
     "output_type": "stream",
     "text": [
      "[[[1986.0, 26.0, 0.0], [1987.0, 26.0, 0.0], [1988.0, 25.0, -1.0], [1989.0, 25.0, 0.0], [1999.0, 24.0, -1.0], [2000.0, 24.0, 0.0], [2001.0, 24.0, 0.0], [2002.0, 24.0, 0.0], [2003.0, 24.0, 0.0], [2004.0, 24.0, 0.0], [2005.0, 24.0, 0.0], [2006.0, 24.0, 0.0], [2010.0, 25.0, 1.0], [2011.0, 26.0, 1.0], [2012.0, 26.0, 0.0], [2013.0, 26.0, 0.0], [2015.0, 30.0, 4.0], [2016.0, 30.0, 0.0], [2017.0, 29.0, -1.0]]]\n"
     ]
    }
   ],
   "source": [
    "print([Q5.values.tolist()])"
   ]
  },
  {
   "cell_type": "code",
   "execution_count": 549,
   "id": "a617866a-d4dd-4b55-b1ff-2e8266be984e",
   "metadata": {
    "tags": []
   },
   "outputs": [
    {
     "name": "stdout",
     "output_type": "stream",
     "text": [
      "       CO2 Emission Grams/Mile\n",
      "33284                    133.0\n",
      "33283                    133.0\n",
      "33282                    133.0\n",
      "33281                    133.0\n",
      "33280                    158.0\n"
     ]
    }
   ],
   "source": [
    "df_toyota_CO2 = df_toyota.sort_values('CO2 Emission Grams/Mile')\n",
    "df_toyota_minCO2 = df_toyota_CO2.head(5)\n",
    "df_toyota_5minCO2 = df_toyota_minCO2.drop(['Make', 'Model', 'Year', 'Engine Displacement', 'Cylinders', 'Transmission', 'Drivetrain', 'Vehicle Class', 'Fuel Type', 'Fuel Barrels/Year', 'City MPG', 'Highway MPG', 'Combined MPG', 'Fuel Cost/Year'],axis='columns')\n",
    "print(df_toyota_5minCO2)"
   ]
  },
  {
   "cell_type": "code",
   "execution_count": 550,
   "id": "a186a312-e4ac-407a-93f3-20038725196a",
   "metadata": {
    "tags": []
   },
   "outputs": [
    {
     "name": "stdout",
     "output_type": "stream",
     "text": [
      "[[133.0], [133.0], [133.0], [133.0], [158.0]]\n"
     ]
    }
   ],
   "source": [
    "my_list = df_toyota_5minCO2.values.tolist()\n",
    "print(my_list)"
   ]
  },
  {
   "cell_type": "code",
   "execution_count": 551,
   "id": "b9db1712-a939-49ee-b56c-1517cb262986",
   "metadata": {
    "tags": []
   },
   "outputs": [
    {
     "name": "stdout",
     "output_type": "stream",
     "text": [
      "[133.0, 133.0, 133.0, 133.0, 158.0]\n"
     ]
    }
   ],
   "source": [
    "flattened_list_toyota = [item for sublist in my_list for item in sublist]\n",
    "\n",
    "print(flattened_list_toyota)"
   ]
  },
  {
   "cell_type": "code",
   "execution_count": 552,
   "id": "f6b1c585-7be7-4993-b774-922f0b46e6c3",
   "metadata": {
    "tags": []
   },
   "outputs": [
    {
     "name": "stdout",
     "output_type": "stream",
     "text": [
      "['Toyota', 133.0, 133.0, 133.0, 133.0, 158.0]\n"
     ]
    }
   ],
   "source": [
    "flattened_list_toyota = [133.0, 133.0, 133.0, 133.0, 158.0]\n",
    "brand = \"Toyota\"\n",
    "\n",
    "# Insert the string at the beginning of the list\n",
    "flattened_list_toyota.insert(0, brand)\n",
    "\n",
    "print(flattened_list_toyota)\n"
   ]
  },
  {
   "cell_type": "code",
   "execution_count": 553,
   "id": "e5bb2988-e7ee-4c88-8a6d-258947cdc6f8",
   "metadata": {
    "tags": []
   },
   "outputs": [
    {
     "name": "stdout",
     "output_type": "stream",
     "text": [
      "['Toyota', 133.0, 133.0, 133.0, 133.0, 158.0]\n"
     ]
    }
   ],
   "source": [
    "flattened_list_toyota = [133.0, 133.0, 133.0, 133.0, 158.0]\n",
    "brand = \"Toyota\"\n",
    "\n",
    "# Insert the string at the beginning of the list\n",
    "flattened_list_toyota.insert(0, brand)\n",
    "\n",
    "print(flattened_list_toyota)\n"
   ]
  },
  {
   "cell_type": "code",
   "execution_count": 554,
   "id": "e4397443-a117-4718-b06c-cea3fac1d82b",
   "metadata": {
    "tags": []
   },
   "outputs": [
    {
     "data": {
      "text/html": [
       "<div>\n",
       "<style scoped>\n",
       "    .dataframe tbody tr th:only-of-type {\n",
       "        vertical-align: middle;\n",
       "    }\n",
       "\n",
       "    .dataframe tbody tr th {\n",
       "        vertical-align: top;\n",
       "    }\n",
       "\n",
       "    .dataframe thead th {\n",
       "        text-align: right;\n",
       "    }\n",
       "</style>\n",
       "<table border=\"1\" class=\"dataframe\">\n",
       "  <thead>\n",
       "    <tr style=\"text-align: right;\">\n",
       "      <th></th>\n",
       "      <th>Make</th>\n",
       "      <th>Model</th>\n",
       "      <th>Year</th>\n",
       "      <th>Engine Displacement</th>\n",
       "      <th>Cylinders</th>\n",
       "      <th>Transmission</th>\n",
       "      <th>Drivetrain</th>\n",
       "      <th>Vehicle Class</th>\n",
       "      <th>Fuel Type</th>\n",
       "      <th>Fuel Barrels/Year</th>\n",
       "      <th>City MPG</th>\n",
       "      <th>Highway MPG</th>\n",
       "      <th>Combined MPG</th>\n",
       "      <th>CO2 Emission Grams/Mile</th>\n",
       "      <th>Fuel Cost/Year</th>\n",
       "    </tr>\n",
       "  </thead>\n",
       "  <tbody>\n",
       "    <tr>\n",
       "      <th>11440</th>\n",
       "      <td>Ford</td>\n",
       "      <td>Aerostar Van</td>\n",
       "      <td>1986</td>\n",
       "      <td>2.3</td>\n",
       "      <td>4.0</td>\n",
       "      <td>Automatic 4-spd</td>\n",
       "      <td>Rear-Wheel Drive</td>\n",
       "      <td>Vans</td>\n",
       "      <td>Regular</td>\n",
       "      <td>17.347895</td>\n",
       "      <td>18</td>\n",
       "      <td>22</td>\n",
       "      <td>19</td>\n",
       "      <td>467.736842</td>\n",
       "      <td>1750</td>\n",
       "    </tr>\n",
       "    <tr>\n",
       "      <th>11441</th>\n",
       "      <td>Ford</td>\n",
       "      <td>Aerostar Van</td>\n",
       "      <td>1986</td>\n",
       "      <td>2.3</td>\n",
       "      <td>4.0</td>\n",
       "      <td>Manual 5-spd</td>\n",
       "      <td>Rear-Wheel Drive</td>\n",
       "      <td>Vans</td>\n",
       "      <td>Regular</td>\n",
       "      <td>13.733750</td>\n",
       "      <td>23</td>\n",
       "      <td>26</td>\n",
       "      <td>24</td>\n",
       "      <td>370.291667</td>\n",
       "      <td>1400</td>\n",
       "    </tr>\n",
       "    <tr>\n",
       "      <th>11442</th>\n",
       "      <td>Ford</td>\n",
       "      <td>Aerostar Van</td>\n",
       "      <td>1986</td>\n",
       "      <td>2.8</td>\n",
       "      <td>6.0</td>\n",
       "      <td>Automatic 4-spd</td>\n",
       "      <td>Rear-Wheel Drive</td>\n",
       "      <td>Vans</td>\n",
       "      <td>Regular</td>\n",
       "      <td>19.388824</td>\n",
       "      <td>15</td>\n",
       "      <td>21</td>\n",
       "      <td>17</td>\n",
       "      <td>522.764706</td>\n",
       "      <td>1950</td>\n",
       "    </tr>\n",
       "    <tr>\n",
       "      <th>11443</th>\n",
       "      <td>Ford</td>\n",
       "      <td>Aerostar Van</td>\n",
       "      <td>1986</td>\n",
       "      <td>2.8</td>\n",
       "      <td>6.0</td>\n",
       "      <td>Manual 5-spd</td>\n",
       "      <td>Rear-Wheel Drive</td>\n",
       "      <td>Vans</td>\n",
       "      <td>Regular</td>\n",
       "      <td>18.311667</td>\n",
       "      <td>16</td>\n",
       "      <td>22</td>\n",
       "      <td>18</td>\n",
       "      <td>493.722222</td>\n",
       "      <td>1850</td>\n",
       "    </tr>\n",
       "    <tr>\n",
       "      <th>11444</th>\n",
       "      <td>Ford</td>\n",
       "      <td>Aerostar Van</td>\n",
       "      <td>1986</td>\n",
       "      <td>3.0</td>\n",
       "      <td>6.0</td>\n",
       "      <td>Manual 5-spd</td>\n",
       "      <td>Rear-Wheel Drive</td>\n",
       "      <td>Vans</td>\n",
       "      <td>Regular</td>\n",
       "      <td>17.347895</td>\n",
       "      <td>17</td>\n",
       "      <td>22</td>\n",
       "      <td>19</td>\n",
       "      <td>467.736842</td>\n",
       "      <td>1750</td>\n",
       "    </tr>\n",
       "  </tbody>\n",
       "</table>\n",
       "</div>"
      ],
      "text/plain": [
       "       Make         Model  Year  Engine Displacement  Cylinders  \\\n",
       "11440  Ford  Aerostar Van  1986                  2.3        4.0   \n",
       "11441  Ford  Aerostar Van  1986                  2.3        4.0   \n",
       "11442  Ford  Aerostar Van  1986                  2.8        6.0   \n",
       "11443  Ford  Aerostar Van  1986                  2.8        6.0   \n",
       "11444  Ford  Aerostar Van  1986                  3.0        6.0   \n",
       "\n",
       "          Transmission        Drivetrain Vehicle Class Fuel Type  \\\n",
       "11440  Automatic 4-spd  Rear-Wheel Drive          Vans   Regular   \n",
       "11441     Manual 5-spd  Rear-Wheel Drive          Vans   Regular   \n",
       "11442  Automatic 4-spd  Rear-Wheel Drive          Vans   Regular   \n",
       "11443     Manual 5-spd  Rear-Wheel Drive          Vans   Regular   \n",
       "11444     Manual 5-spd  Rear-Wheel Drive          Vans   Regular   \n",
       "\n",
       "       Fuel Barrels/Year  City MPG  Highway MPG  Combined MPG  \\\n",
       "11440          17.347895        18           22            19   \n",
       "11441          13.733750        23           26            24   \n",
       "11442          19.388824        15           21            17   \n",
       "11443          18.311667        16           22            18   \n",
       "11444          17.347895        17           22            19   \n",
       "\n",
       "       CO2 Emission Grams/Mile  Fuel Cost/Year  \n",
       "11440               467.736842            1750  \n",
       "11441               370.291667            1400  \n",
       "11442               522.764706            1950  \n",
       "11443               493.722222            1850  \n",
       "11444               467.736842            1750  "
      ]
     },
     "execution_count": 554,
     "metadata": {},
     "output_type": "execute_result"
    }
   ],
   "source": [
    "df_ford = df[df.Make == 'Ford']\n",
    "df_ford.head()"
   ]
  },
  {
   "cell_type": "code",
   "execution_count": 555,
   "id": "cb1b3338-326b-4ae5-97c3-2281e6f13cfa",
   "metadata": {
    "tags": []
   },
   "outputs": [
    {
     "name": "stdout",
     "output_type": "stream",
     "text": [
      "       CO2 Emission Grams/Mile\n",
      "13412                    112.0\n",
      "13411                    129.0\n",
      "13410                    129.0\n",
      "13409                    129.0\n",
      "13408                    129.0\n"
     ]
    }
   ],
   "source": [
    "df_ford_CO2 = df_ford.sort_values('CO2 Emission Grams/Mile')\n",
    "df_ford_minCO2 = df_ford_CO2.head(5)\n",
    "df_ford_5minCO2 = df_ford_minCO2.drop(['Make', 'Model', 'Year', 'Engine Displacement', 'Cylinders', 'Transmission', 'Drivetrain', 'Vehicle Class', 'Fuel Type', 'Fuel Barrels/Year', 'City MPG', 'Highway MPG', 'Combined MPG', 'Fuel Cost/Year'],axis='columns')\n",
    "print(df_ford_5minCO2)"
   ]
  },
  {
   "cell_type": "code",
   "execution_count": 556,
   "id": "95b0464d-4c17-4e70-a6e4-e31a651ffd4e",
   "metadata": {
    "tags": []
   },
   "outputs": [
    {
     "name": "stdout",
     "output_type": "stream",
     "text": [
      "[[112.0], [129.0], [129.0], [129.0], [129.0]]\n"
     ]
    }
   ],
   "source": [
    "my_ford_list = df_ford_5minCO2.values.tolist()\n",
    "print(my_ford_list)"
   ]
  },
  {
   "cell_type": "code",
   "execution_count": 557,
   "id": "132ff17c-bdb6-4755-a127-c212719caeed",
   "metadata": {
    "tags": []
   },
   "outputs": [
    {
     "name": "stdout",
     "output_type": "stream",
     "text": [
      "[112.0, 129.0, 129.0, 129.0, 129.0]\n"
     ]
    }
   ],
   "source": [
    "flattened_list_ford = [item for sublist in my_ford_list for item in sublist]\n",
    "print(flattened_list_ford)"
   ]
  },
  {
   "cell_type": "code",
   "execution_count": 558,
   "id": "209c34dc-f0e0-4635-bbe6-3f5f234e3eb4",
   "metadata": {
    "tags": []
   },
   "outputs": [
    {
     "name": "stdout",
     "output_type": "stream",
     "text": [
      "['Ford', 112.0, 129.0, 129.0, 129.0, 129.0]\n"
     ]
    }
   ],
   "source": [
    "brand2 = \"Ford\"\n",
    "\n",
    "# Insert the string at the beginning of the list\n",
    "flattened_list_ford.insert(0, brand2)\n",
    "\n",
    "print(flattened_list_ford)"
   ]
  },
  {
   "cell_type": "code",
   "execution_count": 559,
   "id": "fcefe76c-f4db-4e0f-84ee-f2a6584a3db6",
   "metadata": {
    "tags": []
   },
   "outputs": [
    {
     "data": {
      "text/html": [
       "<div>\n",
       "<style scoped>\n",
       "    .dataframe tbody tr th:only-of-type {\n",
       "        vertical-align: middle;\n",
       "    }\n",
       "\n",
       "    .dataframe tbody tr th {\n",
       "        vertical-align: top;\n",
       "    }\n",
       "\n",
       "    .dataframe thead th {\n",
       "        text-align: right;\n",
       "    }\n",
       "</style>\n",
       "<table border=\"1\" class=\"dataframe\">\n",
       "  <thead>\n",
       "    <tr style=\"text-align: right;\">\n",
       "      <th></th>\n",
       "      <th>Make</th>\n",
       "      <th>Model</th>\n",
       "      <th>Year</th>\n",
       "      <th>Engine Displacement</th>\n",
       "      <th>Cylinders</th>\n",
       "      <th>Transmission</th>\n",
       "      <th>Drivetrain</th>\n",
       "      <th>Vehicle Class</th>\n",
       "      <th>Fuel Type</th>\n",
       "      <th>Fuel Barrels/Year</th>\n",
       "      <th>City MPG</th>\n",
       "      <th>Highway MPG</th>\n",
       "      <th>Combined MPG</th>\n",
       "      <th>CO2 Emission Grams/Mile</th>\n",
       "      <th>Fuel Cost/Year</th>\n",
       "    </tr>\n",
       "  </thead>\n",
       "  <tbody>\n",
       "    <tr>\n",
       "      <th>34128</th>\n",
       "      <td>Volkswagen</td>\n",
       "      <td>Beetle</td>\n",
       "      <td>2012</td>\n",
       "      <td>2.0</td>\n",
       "      <td>4.0</td>\n",
       "      <td>Automatic (S6)</td>\n",
       "      <td>Front-Wheel Drive</td>\n",
       "      <td>Subcompact Cars</td>\n",
       "      <td>Premium</td>\n",
       "      <td>13.184400</td>\n",
       "      <td>22</td>\n",
       "      <td>30</td>\n",
       "      <td>25</td>\n",
       "      <td>355.480000</td>\n",
       "      <td>1600</td>\n",
       "    </tr>\n",
       "    <tr>\n",
       "      <th>34129</th>\n",
       "      <td>Volkswagen</td>\n",
       "      <td>Beetle</td>\n",
       "      <td>2012</td>\n",
       "      <td>2.5</td>\n",
       "      <td>5.0</td>\n",
       "      <td>Automatic (S6)</td>\n",
       "      <td>Front-Wheel Drive</td>\n",
       "      <td>Subcompact Cars</td>\n",
       "      <td>Regular</td>\n",
       "      <td>13.184400</td>\n",
       "      <td>22</td>\n",
       "      <td>29</td>\n",
       "      <td>25</td>\n",
       "      <td>355.480000</td>\n",
       "      <td>1350</td>\n",
       "    </tr>\n",
       "    <tr>\n",
       "      <th>34130</th>\n",
       "      <td>Volkswagen</td>\n",
       "      <td>Beetle</td>\n",
       "      <td>2012</td>\n",
       "      <td>2.0</td>\n",
       "      <td>4.0</td>\n",
       "      <td>Manual 6-spd</td>\n",
       "      <td>Front-Wheel Drive</td>\n",
       "      <td>Subcompact Cars</td>\n",
       "      <td>Premium</td>\n",
       "      <td>13.733750</td>\n",
       "      <td>21</td>\n",
       "      <td>30</td>\n",
       "      <td>24</td>\n",
       "      <td>370.291667</td>\n",
       "      <td>1700</td>\n",
       "    </tr>\n",
       "    <tr>\n",
       "      <th>34131</th>\n",
       "      <td>Volkswagen</td>\n",
       "      <td>Beetle</td>\n",
       "      <td>2012</td>\n",
       "      <td>2.5</td>\n",
       "      <td>5.0</td>\n",
       "      <td>Manual 5-spd</td>\n",
       "      <td>Front-Wheel Drive</td>\n",
       "      <td>Subcompact Cars</td>\n",
       "      <td>Regular</td>\n",
       "      <td>13.184400</td>\n",
       "      <td>22</td>\n",
       "      <td>31</td>\n",
       "      <td>25</td>\n",
       "      <td>355.480000</td>\n",
       "      <td>1350</td>\n",
       "    </tr>\n",
       "    <tr>\n",
       "      <th>34132</th>\n",
       "      <td>Volkswagen</td>\n",
       "      <td>Beetle</td>\n",
       "      <td>2013</td>\n",
       "      <td>2.0</td>\n",
       "      <td>4.0</td>\n",
       "      <td>Manual 6-spd</td>\n",
       "      <td>Front-Wheel Drive</td>\n",
       "      <td>Compact Cars</td>\n",
       "      <td>Diesel</td>\n",
       "      <td>11.943281</td>\n",
       "      <td>28</td>\n",
       "      <td>41</td>\n",
       "      <td>32</td>\n",
       "      <td>313.000000</td>\n",
       "      <td>1150</td>\n",
       "    </tr>\n",
       "  </tbody>\n",
       "</table>\n",
       "</div>"
      ],
      "text/plain": [
       "             Make   Model  Year  Engine Displacement  Cylinders  \\\n",
       "34128  Volkswagen  Beetle  2012                  2.0        4.0   \n",
       "34129  Volkswagen  Beetle  2012                  2.5        5.0   \n",
       "34130  Volkswagen  Beetle  2012                  2.0        4.0   \n",
       "34131  Volkswagen  Beetle  2012                  2.5        5.0   \n",
       "34132  Volkswagen  Beetle  2013                  2.0        4.0   \n",
       "\n",
       "         Transmission         Drivetrain    Vehicle Class Fuel Type  \\\n",
       "34128  Automatic (S6)  Front-Wheel Drive  Subcompact Cars   Premium   \n",
       "34129  Automatic (S6)  Front-Wheel Drive  Subcompact Cars   Regular   \n",
       "34130    Manual 6-spd  Front-Wheel Drive  Subcompact Cars   Premium   \n",
       "34131    Manual 5-spd  Front-Wheel Drive  Subcompact Cars   Regular   \n",
       "34132    Manual 6-spd  Front-Wheel Drive     Compact Cars    Diesel   \n",
       "\n",
       "       Fuel Barrels/Year  City MPG  Highway MPG  Combined MPG  \\\n",
       "34128          13.184400        22           30            25   \n",
       "34129          13.184400        22           29            25   \n",
       "34130          13.733750        21           30            24   \n",
       "34131          13.184400        22           31            25   \n",
       "34132          11.943281        28           41            32   \n",
       "\n",
       "       CO2 Emission Grams/Mile  Fuel Cost/Year  \n",
       "34128               355.480000            1600  \n",
       "34129               355.480000            1350  \n",
       "34130               370.291667            1700  \n",
       "34131               355.480000            1350  \n",
       "34132               313.000000            1150  "
      ]
     },
     "execution_count": 559,
     "metadata": {},
     "output_type": "execute_result"
    }
   ],
   "source": [
    "df_volkswagen = df[df.Make == 'Volkswagen']\n",
    "df_volkswagen.head()"
   ]
  },
  {
   "cell_type": "code",
   "execution_count": 560,
   "id": "f6153255-6b85-4576-af23-c174d923a85d",
   "metadata": {
    "tags": []
   },
   "outputs": [
    {
     "name": "stdout",
     "output_type": "stream",
     "text": [
      "       CO2 Emission Grams/Mile\n",
      "34667               200.000000\n",
      "34664               200.000000\n",
      "34665               200.000000\n",
      "34666               200.000000\n",
      "34720               261.025641\n"
     ]
    }
   ],
   "source": [
    "df_volkswagen_CO2 = df_volkswagen.sort_values('CO2 Emission Grams/Mile')\n",
    "df_volkswagen_minCO2 = df_volkswagen_CO2.head(5)\n",
    "df_volkswagen_5minCO2 = df_volkswagen_minCO2.drop(['Make', 'Model', 'Year', 'Engine Displacement', 'Cylinders', 'Transmission', 'Drivetrain', 'Vehicle Class', 'Fuel Type', 'Fuel Barrels/Year', 'City MPG', 'Highway MPG', 'Combined MPG', 'Fuel Cost/Year'],axis='columns')\n",
    "print(df_volkswagen_5minCO2)"
   ]
  },
  {
   "cell_type": "code",
   "execution_count": 561,
   "id": "b5e4f815-6677-463b-bbde-48a84faa199d",
   "metadata": {
    "tags": []
   },
   "outputs": [
    {
     "name": "stdout",
     "output_type": "stream",
     "text": [
      "[[200.0], [200.0], [200.0], [200.0], [261.025641025641]]\n"
     ]
    }
   ],
   "source": [
    "my_volkswagen_list = df_volkswagen_5minCO2.values.tolist()\n",
    "print(my_volkswagen_list)"
   ]
  },
  {
   "cell_type": "code",
   "execution_count": 562,
   "id": "62056f16-0de9-40dc-8500-9321652e95a3",
   "metadata": {
    "tags": []
   },
   "outputs": [
    {
     "name": "stdout",
     "output_type": "stream",
     "text": [
      "['Volkswagen', 200.0, 200.0, 200.0, 200.0, 261.025641025641]\n"
     ]
    }
   ],
   "source": [
    "flattened_list_volkswagen= [item for sublist in my_volkswagen_list for item in sublist]\n",
    "brand2 = \"Volkswagen\"\n",
    "flattened_list_volkswagen.insert(0, brand2)\n",
    "\n",
    "print(flattened_list_volkswagen)"
   ]
  },
  {
   "cell_type": "code",
   "execution_count": 563,
   "id": "c1f7fb62-00ad-4982-b4e9-8b8ce42940bf",
   "metadata": {
    "tags": []
   },
   "outputs": [
    {
     "data": {
      "text/html": [
       "<div>\n",
       "<style scoped>\n",
       "    .dataframe tbody tr th:only-of-type {\n",
       "        vertical-align: middle;\n",
       "    }\n",
       "\n",
       "    .dataframe tbody tr th {\n",
       "        vertical-align: top;\n",
       "    }\n",
       "\n",
       "    .dataframe thead th {\n",
       "        text-align: right;\n",
       "    }\n",
       "</style>\n",
       "<table border=\"1\" class=\"dataframe\">\n",
       "  <thead>\n",
       "    <tr style=\"text-align: right;\">\n",
       "      <th></th>\n",
       "      <th>Make</th>\n",
       "      <th>Model</th>\n",
       "      <th>Year</th>\n",
       "      <th>Engine Displacement</th>\n",
       "      <th>Cylinders</th>\n",
       "      <th>Transmission</th>\n",
       "      <th>Drivetrain</th>\n",
       "      <th>Vehicle Class</th>\n",
       "      <th>Fuel Type</th>\n",
       "      <th>Fuel Barrels/Year</th>\n",
       "      <th>City MPG</th>\n",
       "      <th>Highway MPG</th>\n",
       "      <th>Combined MPG</th>\n",
       "      <th>CO2 Emission Grams/Mile</th>\n",
       "      <th>Fuel Cost/Year</th>\n",
       "    </tr>\n",
       "  </thead>\n",
       "  <tbody>\n",
       "    <tr>\n",
       "      <th>26035</th>\n",
       "      <td>Nissan</td>\n",
       "      <td>200SX</td>\n",
       "      <td>1985</td>\n",
       "      <td>1.8</td>\n",
       "      <td>4.0</td>\n",
       "      <td>Manual 5-spd</td>\n",
       "      <td>Rear-Wheel Drive</td>\n",
       "      <td>Subcompact Cars</td>\n",
       "      <td>Regular</td>\n",
       "      <td>14.982273</td>\n",
       "      <td>19</td>\n",
       "      <td>26</td>\n",
       "      <td>22</td>\n",
       "      <td>403.954545</td>\n",
       "      <td>1500</td>\n",
       "    </tr>\n",
       "    <tr>\n",
       "      <th>26036</th>\n",
       "      <td>Nissan</td>\n",
       "      <td>200SX</td>\n",
       "      <td>1985</td>\n",
       "      <td>2.0</td>\n",
       "      <td>4.0</td>\n",
       "      <td>Manual 5-spd</td>\n",
       "      <td>Rear-Wheel Drive</td>\n",
       "      <td>Subcompact Cars</td>\n",
       "      <td>Regular</td>\n",
       "      <td>14.982273</td>\n",
       "      <td>19</td>\n",
       "      <td>25</td>\n",
       "      <td>22</td>\n",
       "      <td>403.954545</td>\n",
       "      <td>1500</td>\n",
       "    </tr>\n",
       "    <tr>\n",
       "      <th>26037</th>\n",
       "      <td>Nissan</td>\n",
       "      <td>200SX</td>\n",
       "      <td>1985</td>\n",
       "      <td>1.8</td>\n",
       "      <td>4.0</td>\n",
       "      <td>Automatic 4-spd</td>\n",
       "      <td>Rear-Wheel Drive</td>\n",
       "      <td>Subcompact Cars</td>\n",
       "      <td>Regular</td>\n",
       "      <td>16.480500</td>\n",
       "      <td>18</td>\n",
       "      <td>24</td>\n",
       "      <td>20</td>\n",
       "      <td>444.350000</td>\n",
       "      <td>1650</td>\n",
       "    </tr>\n",
       "    <tr>\n",
       "      <th>26038</th>\n",
       "      <td>Nissan</td>\n",
       "      <td>200SX</td>\n",
       "      <td>1985</td>\n",
       "      <td>1.8</td>\n",
       "      <td>4.0</td>\n",
       "      <td>Manual 5-spd</td>\n",
       "      <td>Rear-Wheel Drive</td>\n",
       "      <td>Subcompact Cars</td>\n",
       "      <td>Regular</td>\n",
       "      <td>15.695714</td>\n",
       "      <td>19</td>\n",
       "      <td>24</td>\n",
       "      <td>21</td>\n",
       "      <td>423.190476</td>\n",
       "      <td>1600</td>\n",
       "    </tr>\n",
       "    <tr>\n",
       "      <th>26039</th>\n",
       "      <td>Nissan</td>\n",
       "      <td>200SX</td>\n",
       "      <td>1985</td>\n",
       "      <td>2.0</td>\n",
       "      <td>4.0</td>\n",
       "      <td>Automatic 4-spd</td>\n",
       "      <td>Rear-Wheel Drive</td>\n",
       "      <td>Subcompact Cars</td>\n",
       "      <td>Regular</td>\n",
       "      <td>15.695714</td>\n",
       "      <td>19</td>\n",
       "      <td>26</td>\n",
       "      <td>21</td>\n",
       "      <td>423.190476</td>\n",
       "      <td>1600</td>\n",
       "    </tr>\n",
       "  </tbody>\n",
       "</table>\n",
       "</div>"
      ],
      "text/plain": [
       "         Make  Model  Year  Engine Displacement  Cylinders     Transmission  \\\n",
       "26035  Nissan  200SX  1985                  1.8        4.0     Manual 5-spd   \n",
       "26036  Nissan  200SX  1985                  2.0        4.0     Manual 5-spd   \n",
       "26037  Nissan  200SX  1985                  1.8        4.0  Automatic 4-spd   \n",
       "26038  Nissan  200SX  1985                  1.8        4.0     Manual 5-spd   \n",
       "26039  Nissan  200SX  1985                  2.0        4.0  Automatic 4-spd   \n",
       "\n",
       "             Drivetrain    Vehicle Class Fuel Type  Fuel Barrels/Year  \\\n",
       "26035  Rear-Wheel Drive  Subcompact Cars   Regular          14.982273   \n",
       "26036  Rear-Wheel Drive  Subcompact Cars   Regular          14.982273   \n",
       "26037  Rear-Wheel Drive  Subcompact Cars   Regular          16.480500   \n",
       "26038  Rear-Wheel Drive  Subcompact Cars   Regular          15.695714   \n",
       "26039  Rear-Wheel Drive  Subcompact Cars   Regular          15.695714   \n",
       "\n",
       "       City MPG  Highway MPG  Combined MPG  CO2 Emission Grams/Mile  \\\n",
       "26035        19           26            22               403.954545   \n",
       "26036        19           25            22               403.954545   \n",
       "26037        18           24            20               444.350000   \n",
       "26038        19           24            21               423.190476   \n",
       "26039        19           26            21               423.190476   \n",
       "\n",
       "       Fuel Cost/Year  \n",
       "26035            1500  \n",
       "26036            1500  \n",
       "26037            1650  \n",
       "26038            1600  \n",
       "26039            1600  "
      ]
     },
     "execution_count": 563,
     "metadata": {},
     "output_type": "execute_result"
    }
   ],
   "source": [
    "df_nissan = df[df.Make == 'Nissan']\n",
    "df_nissan.head()"
   ]
  },
  {
   "cell_type": "code",
   "execution_count": 564,
   "id": "f89b8d6a-1d27-4528-9b9b-675f9665722d",
   "metadata": {
    "tags": []
   },
   "outputs": [
    {
     "name": "stdout",
     "output_type": "stream",
     "text": [
      "       CO2 Emission Grams/Mile\n",
      "27201                    249.0\n",
      "27198                    254.0\n",
      "26830                    254.5\n",
      "26835                    254.5\n",
      "26832                    254.5\n"
     ]
    }
   ],
   "source": [
    "df_nissan_CO2 = df_nissan.sort_values('CO2 Emission Grams/Mile')\n",
    "df_nissan_minCO2 = df_nissan_CO2.head(5)\n",
    "df_nissan_5minCO2 = df_nissan_minCO2.drop(['Make', 'Model', 'Year', 'Engine Displacement', 'Cylinders', 'Transmission', 'Drivetrain', 'Vehicle Class', 'Fuel Type', 'Fuel Barrels/Year', 'City MPG', 'Highway MPG', 'Combined MPG', 'Fuel Cost/Year'],axis='columns')\n",
    "print(df_nissan_5minCO2)"
   ]
  },
  {
   "cell_type": "code",
   "execution_count": 565,
   "id": "b9d637af-8627-4e3a-8de3-47ce28ce7cbc",
   "metadata": {
    "tags": []
   },
   "outputs": [
    {
     "name": "stdout",
     "output_type": "stream",
     "text": [
      "[[249.0], [254.0], [254.5], [254.5], [254.5]]\n"
     ]
    }
   ],
   "source": [
    "my_nissan_list = df_nissan_5minCO2.values.tolist()\n",
    "print(my_nissan_list)"
   ]
  },
  {
   "cell_type": "code",
   "execution_count": 566,
   "id": "b64e1f5f-7314-4adc-b8ff-37ae7c69bc28",
   "metadata": {
    "tags": []
   },
   "outputs": [
    {
     "name": "stdout",
     "output_type": "stream",
     "text": [
      "['Nissan', 249.0, 254.0, 254.5, 254.5, 254.5]\n"
     ]
    }
   ],
   "source": [
    "flattened_list_nissan= [item for sublist in my_nissan_list for item in sublist]\n",
    "brand3 = \"Nissan\"\n",
    "flattened_list_nissan.insert(0, brand3)\n",
    "\n",
    "print(flattened_list_nissan)"
   ]
  },
  {
   "cell_type": "code",
   "execution_count": 567,
   "id": "f9450eb1-212a-4d9a-bdec-f3b11101b48f",
   "metadata": {
    "tags": []
   },
   "outputs": [
    {
     "data": {
      "text/html": [
       "<div>\n",
       "<style scoped>\n",
       "    .dataframe tbody tr th:only-of-type {\n",
       "        vertical-align: middle;\n",
       "    }\n",
       "\n",
       "    .dataframe tbody tr th {\n",
       "        vertical-align: top;\n",
       "    }\n",
       "\n",
       "    .dataframe thead th {\n",
       "        text-align: right;\n",
       "    }\n",
       "</style>\n",
       "<table border=\"1\" class=\"dataframe\">\n",
       "  <thead>\n",
       "    <tr style=\"text-align: right;\">\n",
       "      <th></th>\n",
       "      <th>Make</th>\n",
       "      <th>Model</th>\n",
       "      <th>Year</th>\n",
       "      <th>Engine Displacement</th>\n",
       "      <th>Cylinders</th>\n",
       "      <th>Transmission</th>\n",
       "      <th>Drivetrain</th>\n",
       "      <th>Vehicle Class</th>\n",
       "      <th>Fuel Type</th>\n",
       "      <th>Fuel Barrels/Year</th>\n",
       "      <th>City MPG</th>\n",
       "      <th>Highway MPG</th>\n",
       "      <th>Combined MPG</th>\n",
       "      <th>CO2 Emission Grams/Mile</th>\n",
       "      <th>Fuel Cost/Year</th>\n",
       "    </tr>\n",
       "  </thead>\n",
       "  <tbody>\n",
       "    <tr>\n",
       "      <th>16891</th>\n",
       "      <td>Honda</td>\n",
       "      <td>Accord</td>\n",
       "      <td>1985</td>\n",
       "      <td>1.8</td>\n",
       "      <td>4.0</td>\n",
       "      <td>Automatic 4-spd</td>\n",
       "      <td>Front-Wheel Drive</td>\n",
       "      <td>Subcompact Cars</td>\n",
       "      <td>Regular</td>\n",
       "      <td>13.733750</td>\n",
       "      <td>22</td>\n",
       "      <td>27</td>\n",
       "      <td>24</td>\n",
       "      <td>370.291667</td>\n",
       "      <td>1400</td>\n",
       "    </tr>\n",
       "    <tr>\n",
       "      <th>16892</th>\n",
       "      <td>Honda</td>\n",
       "      <td>Accord</td>\n",
       "      <td>1985</td>\n",
       "      <td>1.8</td>\n",
       "      <td>4.0</td>\n",
       "      <td>Manual 5-spd</td>\n",
       "      <td>Front-Wheel Drive</td>\n",
       "      <td>Subcompact Cars</td>\n",
       "      <td>Regular</td>\n",
       "      <td>13.733750</td>\n",
       "      <td>22</td>\n",
       "      <td>27</td>\n",
       "      <td>24</td>\n",
       "      <td>370.291667</td>\n",
       "      <td>1400</td>\n",
       "    </tr>\n",
       "    <tr>\n",
       "      <th>16893</th>\n",
       "      <td>Honda</td>\n",
       "      <td>Accord</td>\n",
       "      <td>1985</td>\n",
       "      <td>1.8</td>\n",
       "      <td>4.0</td>\n",
       "      <td>Manual 5-spd</td>\n",
       "      <td>Front-Wheel Drive</td>\n",
       "      <td>Subcompact Cars</td>\n",
       "      <td>Regular</td>\n",
       "      <td>13.184400</td>\n",
       "      <td>22</td>\n",
       "      <td>29</td>\n",
       "      <td>25</td>\n",
       "      <td>355.480000</td>\n",
       "      <td>1350</td>\n",
       "    </tr>\n",
       "    <tr>\n",
       "      <th>16894</th>\n",
       "      <td>Honda</td>\n",
       "      <td>Accord</td>\n",
       "      <td>1985</td>\n",
       "      <td>1.8</td>\n",
       "      <td>4.0</td>\n",
       "      <td>Automatic 4-spd</td>\n",
       "      <td>Front-Wheel Drive</td>\n",
       "      <td>Subcompact Cars</td>\n",
       "      <td>Regular</td>\n",
       "      <td>14.982273</td>\n",
       "      <td>21</td>\n",
       "      <td>24</td>\n",
       "      <td>22</td>\n",
       "      <td>403.954545</td>\n",
       "      <td>1500</td>\n",
       "    </tr>\n",
       "    <tr>\n",
       "      <th>16895</th>\n",
       "      <td>Honda</td>\n",
       "      <td>Accord</td>\n",
       "      <td>1985</td>\n",
       "      <td>1.8</td>\n",
       "      <td>4.0</td>\n",
       "      <td>Automatic 4-spd</td>\n",
       "      <td>Front-Wheel Drive</td>\n",
       "      <td>Subcompact Cars</td>\n",
       "      <td>Regular</td>\n",
       "      <td>13.733750</td>\n",
       "      <td>21</td>\n",
       "      <td>28</td>\n",
       "      <td>24</td>\n",
       "      <td>370.291667</td>\n",
       "      <td>1400</td>\n",
       "    </tr>\n",
       "  </tbody>\n",
       "</table>\n",
       "</div>"
      ],
      "text/plain": [
       "        Make   Model  Year  Engine Displacement  Cylinders     Transmission  \\\n",
       "16891  Honda  Accord  1985                  1.8        4.0  Automatic 4-spd   \n",
       "16892  Honda  Accord  1985                  1.8        4.0     Manual 5-spd   \n",
       "16893  Honda  Accord  1985                  1.8        4.0     Manual 5-spd   \n",
       "16894  Honda  Accord  1985                  1.8        4.0  Automatic 4-spd   \n",
       "16895  Honda  Accord  1985                  1.8        4.0  Automatic 4-spd   \n",
       "\n",
       "              Drivetrain    Vehicle Class Fuel Type  Fuel Barrels/Year  \\\n",
       "16891  Front-Wheel Drive  Subcompact Cars   Regular          13.733750   \n",
       "16892  Front-Wheel Drive  Subcompact Cars   Regular          13.733750   \n",
       "16893  Front-Wheel Drive  Subcompact Cars   Regular          13.184400   \n",
       "16894  Front-Wheel Drive  Subcompact Cars   Regular          14.982273   \n",
       "16895  Front-Wheel Drive  Subcompact Cars   Regular          13.733750   \n",
       "\n",
       "       City MPG  Highway MPG  Combined MPG  CO2 Emission Grams/Mile  \\\n",
       "16891        22           27            24               370.291667   \n",
       "16892        22           27            24               370.291667   \n",
       "16893        22           29            25               355.480000   \n",
       "16894        21           24            22               403.954545   \n",
       "16895        21           28            24               370.291667   \n",
       "\n",
       "       Fuel Cost/Year  \n",
       "16891            1400  \n",
       "16892            1400  \n",
       "16893            1350  \n",
       "16894            1500  \n",
       "16895            1400  "
      ]
     },
     "execution_count": 567,
     "metadata": {},
     "output_type": "execute_result"
    }
   ],
   "source": [
    "df_honda = df[df.Make == 'Honda']\n",
    "df_honda.head()"
   ]
  },
  {
   "cell_type": "code",
   "execution_count": 568,
   "id": "57cb52ae-64f5-407e-bc79-fd579e8fddca",
   "metadata": {
    "tags": []
   },
   "outputs": [
    {
     "name": "stdout",
     "output_type": "stream",
     "text": [
      "       CO2 Emission Grams/Mile\n",
      "17059               130.000000\n",
      "17528               167.679245\n",
      "17526               167.679245\n",
      "17524               167.679245\n",
      "17522               167.679245\n"
     ]
    }
   ],
   "source": [
    "df_honda_CO2 = df_honda.sort_values('CO2 Emission Grams/Mile')\n",
    "df_honda_minCO2 = df_honda_CO2.head(5)\n",
    "df_honda_5minCO2 = df_honda_minCO2.drop(['Make', 'Model', 'Year', 'Engine Displacement', 'Cylinders', 'Transmission', 'Drivetrain', 'Vehicle Class', 'Fuel Type', 'Fuel Barrels/Year', 'City MPG', 'Highway MPG', 'Combined MPG', 'Fuel Cost/Year'],axis='columns')\n",
    "print(df_honda_5minCO2)"
   ]
  },
  {
   "cell_type": "code",
   "execution_count": 569,
   "id": "7cb1b2e3-9d46-409c-8de5-c7e2f28207c5",
   "metadata": {
    "tags": []
   },
   "outputs": [
    {
     "name": "stdout",
     "output_type": "stream",
     "text": [
      "[[130.0], [167.67924528301887], [167.67924528301887], [167.67924528301887], [167.67924528301887]]\n"
     ]
    }
   ],
   "source": [
    "my_honda_list = df_honda_5minCO2.values.tolist()\n",
    "print(my_honda_list)"
   ]
  },
  {
   "cell_type": "code",
   "execution_count": 570,
   "id": "e1974ec9-847c-4045-9cb9-a9ad54ed2175",
   "metadata": {
    "tags": []
   },
   "outputs": [
    {
     "name": "stdout",
     "output_type": "stream",
     "text": [
      "['Honda', 130.0, 167.67924528301887, 167.67924528301887, 167.67924528301887, 167.67924528301887]\n"
     ]
    }
   ],
   "source": [
    "flattened_list_honda= [item for sublist in my_honda_list for item in sublist]\n",
    "brand4 = \"Honda\"\n",
    "flattened_list_honda.insert(0, brand4)\n",
    "\n",
    "print(flattened_list_honda)"
   ]
  },
  {
   "cell_type": "code",
   "execution_count": 571,
   "id": "e4196270-6240-4581-a1d5-c0fed139e4c9",
   "metadata": {
    "tags": []
   },
   "outputs": [
    {
     "name": "stdout",
     "output_type": "stream",
     "text": [
      "[['Toyota', 133.0, 133.0, 133.0, 133.0, 158.0], ['Ford', 112.0, 129.0, 129.0, 129.0, 129.0], ['Volkswagen', 200.0, 200.0, 200.0, 200.0, 261.025641025641], ['Nissan', 249.0, 254.0, 254.5, 254.5, 254.5], ['Honda', 130.0, 167.67924528301887, 167.67924528301887, 167.67924528301887, 167.67924528301887]]\n"
     ]
    }
   ],
   "source": [
    "Q6= [flattened_list_toyota] + [flattened_list_ford] + [flattened_list_volkswagen] + [flattened_list_nissan] + [flattened_list_honda]\n",
    "\n",
    "print(Q6)\n"
   ]
  },
  {
   "cell_type": "code",
   "execution_count": 572,
   "id": "3b77fcb2-bd0a-4e4f-8f22-e5e1f620ff32",
   "metadata": {
    "tags": []
   },
   "outputs": [
    {
     "data": {
      "text/html": [
       "<div>\n",
       "<style scoped>\n",
       "    .dataframe tbody tr th:only-of-type {\n",
       "        vertical-align: middle;\n",
       "    }\n",
       "\n",
       "    .dataframe tbody tr th {\n",
       "        vertical-align: top;\n",
       "    }\n",
       "\n",
       "    .dataframe thead th {\n",
       "        text-align: right;\n",
       "    }\n",
       "</style>\n",
       "<table border=\"1\" class=\"dataframe\">\n",
       "  <thead>\n",
       "    <tr style=\"text-align: right;\">\n",
       "      <th></th>\n",
       "      <th>Year</th>\n",
       "      <th>Combined MPG</th>\n",
       "    </tr>\n",
       "  </thead>\n",
       "  <tbody>\n",
       "    <tr>\n",
       "      <th>0</th>\n",
       "      <td>1984</td>\n",
       "      <td>17</td>\n",
       "    </tr>\n",
       "    <tr>\n",
       "      <th>1</th>\n",
       "      <td>1984</td>\n",
       "      <td>13</td>\n",
       "    </tr>\n",
       "    <tr>\n",
       "      <th>2</th>\n",
       "      <td>1985</td>\n",
       "      <td>16</td>\n",
       "    </tr>\n",
       "    <tr>\n",
       "      <th>3</th>\n",
       "      <td>1985</td>\n",
       "      <td>13</td>\n",
       "    </tr>\n",
       "    <tr>\n",
       "      <th>4</th>\n",
       "      <td>1987</td>\n",
       "      <td>16</td>\n",
       "    </tr>\n",
       "  </tbody>\n",
       "</table>\n",
       "</div>"
      ],
      "text/plain": [
       "   Year  Combined MPG\n",
       "0  1984            17\n",
       "1  1984            13\n",
       "2  1985            16\n",
       "3  1985            13\n",
       "4  1987            16"
      ]
     },
     "execution_count": 572,
     "metadata": {},
     "output_type": "execute_result"
    }
   ],
   "source": [
    "df_mpg = df[df['Year'].between(1984, 1988)]\n",
    "df_mpg_1984_1988 =df_mpg.drop(['Make', 'Model', 'Engine Displacement', 'Cylinders', 'Transmission', 'Drivetrain', 'Vehicle Class', 'Fuel Type', 'Fuel Barrels/Year', 'City MPG', 'Highway MPG', 'CO2 Emission Grams/Mile', 'Fuel Cost/Year'],axis='columns')\n",
    "df_mpg_1984_1988.head()"
   ]
  },
  {
   "cell_type": "code",
   "execution_count": 573,
   "id": "ba767bc7-6135-45c4-89c9-0733f51bf3ca",
   "metadata": {
    "tags": []
   },
   "outputs": [
    {
     "name": "stdout",
     "output_type": "stream",
     "text": [
      "19.0\n"
     ]
    }
   ],
   "source": [
    "mid_1984_1988 = df_mpg_1984_1988['Combined MPG'].median()\n",
    "print(mid_1984_1988)"
   ]
  },
  {
   "cell_type": "code",
   "execution_count": 574,
   "id": "5bfd2c60-1214-45c9-a390-53bb32dda01d",
   "metadata": {
    "tags": []
   },
   "outputs": [
    {
     "name": "stdout",
     "output_type": "stream",
     "text": [
      "[(1984, 1988), 19.0]\n"
     ]
    }
   ],
   "source": [
    "l1 =[(1984, 1988),mid_1984_1988 ]\n",
    "print(l1)"
   ]
  },
  {
   "cell_type": "code",
   "execution_count": 575,
   "id": "cc9d8d82-60f6-4bde-84e2-a6a29d036898",
   "metadata": {
    "tags": []
   },
   "outputs": [
    {
     "data": {
      "text/html": [
       "<div>\n",
       "<style scoped>\n",
       "    .dataframe tbody tr th:only-of-type {\n",
       "        vertical-align: middle;\n",
       "    }\n",
       "\n",
       "    .dataframe tbody tr th {\n",
       "        vertical-align: top;\n",
       "    }\n",
       "\n",
       "    .dataframe thead th {\n",
       "        text-align: right;\n",
       "    }\n",
       "</style>\n",
       "<table border=\"1\" class=\"dataframe\">\n",
       "  <thead>\n",
       "    <tr style=\"text-align: right;\">\n",
       "      <th></th>\n",
       "      <th>Year</th>\n",
       "      <th>Combined MPG</th>\n",
       "    </tr>\n",
       "  </thead>\n",
       "  <tbody>\n",
       "    <tr>\n",
       "      <th>35923</th>\n",
       "      <td>1992</td>\n",
       "      <td>11</td>\n",
       "    </tr>\n",
       "    <tr>\n",
       "      <th>35926</th>\n",
       "      <td>1990</td>\n",
       "      <td>23</td>\n",
       "    </tr>\n",
       "    <tr>\n",
       "      <th>35927</th>\n",
       "      <td>1990</td>\n",
       "      <td>25</td>\n",
       "    </tr>\n",
       "    <tr>\n",
       "      <th>35929</th>\n",
       "      <td>1989</td>\n",
       "      <td>26</td>\n",
       "    </tr>\n",
       "    <tr>\n",
       "      <th>35930</th>\n",
       "      <td>1989</td>\n",
       "      <td>25</td>\n",
       "    </tr>\n",
       "  </tbody>\n",
       "</table>\n",
       "</div>"
      ],
      "text/plain": [
       "       Year  Combined MPG\n",
       "35923  1992            11\n",
       "35926  1990            23\n",
       "35927  1990            25\n",
       "35929  1989            26\n",
       "35930  1989            25"
      ]
     },
     "execution_count": 575,
     "metadata": {},
     "output_type": "execute_result"
    }
   ],
   "source": [
    "df_mpg2 = df[df['Year'].between(1989, 1993)]\n",
    "df_mpg_1989_1993 =df_mpg2.drop(['Make', 'Model', 'Engine Displacement', 'Cylinders', 'Transmission', 'Drivetrain', 'Vehicle Class', 'Fuel Type', 'Fuel Barrels/Year', 'City MPG', 'Highway MPG', 'CO2 Emission Grams/Mile', 'Fuel Cost/Year'],axis='columns')\n",
    "df_mpg_1989_1993.tail()"
   ]
  },
  {
   "cell_type": "code",
   "execution_count": 576,
   "id": "6d82e039-e3dd-4fc6-9f12-2f2584dfe11a",
   "metadata": {
    "tags": []
   },
   "outputs": [
    {
     "name": "stdout",
     "output_type": "stream",
     "text": [
      "18.0\n"
     ]
    }
   ],
   "source": [
    "mid_1989_1993 = df_mpg_1989_1993['Combined MPG'].median()\n",
    "print(mid_1989_1993)"
   ]
  },
  {
   "cell_type": "code",
   "execution_count": 577,
   "id": "50e4046a-1cf1-4877-88ee-b62e76482698",
   "metadata": {
    "tags": []
   },
   "outputs": [
    {
     "name": "stdout",
     "output_type": "stream",
     "text": [
      "[(1989, 1993), 18.0]\n"
     ]
    }
   ],
   "source": [
    "l2=[(1989, 1993),mid_1989_1993 ]\n",
    "print(l2)"
   ]
  },
  {
   "cell_type": "code",
   "execution_count": 578,
   "id": "c04f100d-c07c-42f3-8b1f-d56dd944a459",
   "metadata": {
    "tags": []
   },
   "outputs": [
    {
     "data": {
      "text/html": [
       "<div>\n",
       "<style scoped>\n",
       "    .dataframe tbody tr th:only-of-type {\n",
       "        vertical-align: middle;\n",
       "    }\n",
       "\n",
       "    .dataframe tbody tr th {\n",
       "        vertical-align: top;\n",
       "    }\n",
       "\n",
       "    .dataframe thead th {\n",
       "        text-align: right;\n",
       "    }\n",
       "</style>\n",
       "<table border=\"1\" class=\"dataframe\">\n",
       "  <thead>\n",
       "    <tr style=\"text-align: right;\">\n",
       "      <th></th>\n",
       "      <th>Year</th>\n",
       "      <th>Combined MPG</th>\n",
       "    </tr>\n",
       "  </thead>\n",
       "  <tbody>\n",
       "    <tr>\n",
       "      <th>35728</th>\n",
       "      <td>1998</td>\n",
       "      <td>19</td>\n",
       "    </tr>\n",
       "    <tr>\n",
       "      <th>35729</th>\n",
       "      <td>1998</td>\n",
       "      <td>21</td>\n",
       "    </tr>\n",
       "    <tr>\n",
       "      <th>35730</th>\n",
       "      <td>1998</td>\n",
       "      <td>20</td>\n",
       "    </tr>\n",
       "    <tr>\n",
       "      <th>35731</th>\n",
       "      <td>1998</td>\n",
       "      <td>21</td>\n",
       "    </tr>\n",
       "    <tr>\n",
       "      <th>35791</th>\n",
       "      <td>1998</td>\n",
       "      <td>18</td>\n",
       "    </tr>\n",
       "  </tbody>\n",
       "</table>\n",
       "</div>"
      ],
      "text/plain": [
       "       Year  Combined MPG\n",
       "35728  1998            19\n",
       "35729  1998            21\n",
       "35730  1998            20\n",
       "35731  1998            21\n",
       "35791  1998            18"
      ]
     },
     "execution_count": 578,
     "metadata": {},
     "output_type": "execute_result"
    }
   ],
   "source": [
    "df_mpg3 = df[df['Year'].between(1994, 1998)]\n",
    "df_mpg_1994_1998 =df_mpg3.drop(['Make', 'Model', 'Engine Displacement', 'Cylinders', 'Transmission', 'Drivetrain', 'Vehicle Class', 'Fuel Type', 'Fuel Barrels/Year', 'City MPG', 'Highway MPG', 'CO2 Emission Grams/Mile', 'Fuel Cost/Year'],axis='columns')\n",
    "df_mpg_1994_1998.tail()"
   ]
  },
  {
   "cell_type": "code",
   "execution_count": 579,
   "id": "ab70a3f8-f771-4df3-9b92-186775ec0192",
   "metadata": {
    "tags": []
   },
   "outputs": [
    {
     "name": "stdout",
     "output_type": "stream",
     "text": [
      "19.0\n"
     ]
    }
   ],
   "source": [
    "mid_1994_1998 = df_mpg_1994_1998['Combined MPG'].median()\n",
    "print(mid_1994_1998)"
   ]
  },
  {
   "cell_type": "code",
   "execution_count": 580,
   "id": "a0d1eea7-ec9f-4534-9ce9-2b46fbf30c0a",
   "metadata": {
    "tags": []
   },
   "outputs": [
    {
     "name": "stdout",
     "output_type": "stream",
     "text": [
      "[(1994, 1998), 19.0]\n"
     ]
    }
   ],
   "source": [
    "l3=[(1994, 1998),mid_1984_1988 ]\n",
    "print(l3)"
   ]
  },
  {
   "cell_type": "code",
   "execution_count": 581,
   "id": "35a95349-9c3e-431f-a108-24118139167a",
   "metadata": {
    "tags": []
   },
   "outputs": [
    {
     "data": {
      "text/html": [
       "<div>\n",
       "<style scoped>\n",
       "    .dataframe tbody tr th:only-of-type {\n",
       "        vertical-align: middle;\n",
       "    }\n",
       "\n",
       "    .dataframe tbody tr th {\n",
       "        vertical-align: top;\n",
       "    }\n",
       "\n",
       "    .dataframe thead th {\n",
       "        text-align: right;\n",
       "    }\n",
       "</style>\n",
       "<table border=\"1\" class=\"dataframe\">\n",
       "  <thead>\n",
       "    <tr style=\"text-align: right;\">\n",
       "      <th></th>\n",
       "      <th>Year</th>\n",
       "      <th>Combined MPG</th>\n",
       "    </tr>\n",
       "  </thead>\n",
       "  <tbody>\n",
       "    <tr>\n",
       "      <th>35790</th>\n",
       "      <td>2002</td>\n",
       "      <td>20</td>\n",
       "    </tr>\n",
       "    <tr>\n",
       "      <th>35796</th>\n",
       "      <td>2003</td>\n",
       "      <td>19</td>\n",
       "    </tr>\n",
       "    <tr>\n",
       "      <th>35806</th>\n",
       "      <td>2003</td>\n",
       "      <td>18</td>\n",
       "    </tr>\n",
       "    <tr>\n",
       "      <th>35807</th>\n",
       "      <td>2003</td>\n",
       "      <td>16</td>\n",
       "    </tr>\n",
       "    <tr>\n",
       "      <th>35824</th>\n",
       "      <td>2003</td>\n",
       "      <td>18</td>\n",
       "    </tr>\n",
       "  </tbody>\n",
       "</table>\n",
       "</div>"
      ],
      "text/plain": [
       "       Year  Combined MPG\n",
       "35790  2002            20\n",
       "35796  2003            19\n",
       "35806  2003            18\n",
       "35807  2003            16\n",
       "35824  2003            18"
      ]
     },
     "execution_count": 581,
     "metadata": {},
     "output_type": "execute_result"
    }
   ],
   "source": [
    "df_mpg4 = df[df['Year'].between(1999, 2003)]\n",
    "df_mpg_1999_2003 =df_mpg4.drop(['Make', 'Model', 'Engine Displacement', 'Cylinders', 'Transmission', 'Drivetrain', 'Vehicle Class', 'Fuel Type', 'Fuel Barrels/Year', 'City MPG', 'Highway MPG', 'CO2 Emission Grams/Mile', 'Fuel Cost/Year'],axis='columns')\n",
    "df_mpg_1999_2003.tail()"
   ]
  },
  {
   "cell_type": "code",
   "execution_count": 582,
   "id": "12ac97cb-3f3f-423c-a750-0426715f9923",
   "metadata": {
    "tags": []
   },
   "outputs": [
    {
     "name": "stdout",
     "output_type": "stream",
     "text": [
      "19.0\n"
     ]
    }
   ],
   "source": [
    "mid_1999_2003 = df_mpg_1999_2003['Combined MPG'].median()\n",
    "print(mid_1999_2003)"
   ]
  },
  {
   "cell_type": "code",
   "execution_count": 583,
   "id": "db2f76f4-14d2-46a3-b987-8fc224e66f61",
   "metadata": {
    "tags": []
   },
   "outputs": [
    {
     "name": "stdout",
     "output_type": "stream",
     "text": [
      "[(1999, 2003), 19.0]\n"
     ]
    }
   ],
   "source": [
    "l4=[(1999, 2003),mid_1999_2003]\n",
    "print(l4)"
   ]
  },
  {
   "cell_type": "code",
   "execution_count": 584,
   "id": "9dcbbb3f-c983-485e-a074-cae703b434d4",
   "metadata": {
    "tags": []
   },
   "outputs": [
    {
     "data": {
      "text/html": [
       "<div>\n",
       "<style scoped>\n",
       "    .dataframe tbody tr th:only-of-type {\n",
       "        vertical-align: middle;\n",
       "    }\n",
       "\n",
       "    .dataframe tbody tr th {\n",
       "        vertical-align: top;\n",
       "    }\n",
       "\n",
       "    .dataframe thead th {\n",
       "        text-align: right;\n",
       "    }\n",
       "</style>\n",
       "<table border=\"1\" class=\"dataframe\">\n",
       "  <thead>\n",
       "    <tr style=\"text-align: right;\">\n",
       "      <th></th>\n",
       "      <th>Year</th>\n",
       "      <th>Combined MPG</th>\n",
       "    </tr>\n",
       "  </thead>\n",
       "  <tbody>\n",
       "    <tr>\n",
       "      <th>35828</th>\n",
       "      <td>2007</td>\n",
       "      <td>18</td>\n",
       "    </tr>\n",
       "    <tr>\n",
       "      <th>35829</th>\n",
       "      <td>2007</td>\n",
       "      <td>17</td>\n",
       "    </tr>\n",
       "    <tr>\n",
       "      <th>35830</th>\n",
       "      <td>2008</td>\n",
       "      <td>16</td>\n",
       "    </tr>\n",
       "    <tr>\n",
       "      <th>35940</th>\n",
       "      <td>2008</td>\n",
       "      <td>36</td>\n",
       "    </tr>\n",
       "    <tr>\n",
       "      <th>35942</th>\n",
       "      <td>2008</td>\n",
       "      <td>36</td>\n",
       "    </tr>\n",
       "  </tbody>\n",
       "</table>\n",
       "</div>"
      ],
      "text/plain": [
       "       Year  Combined MPG\n",
       "35828  2007            18\n",
       "35829  2007            17\n",
       "35830  2008            16\n",
       "35940  2008            36\n",
       "35942  2008            36"
      ]
     },
     "execution_count": 584,
     "metadata": {},
     "output_type": "execute_result"
    }
   ],
   "source": [
    "df_mpg4 = df[df['Year'].between(2004, 2008)]\n",
    "df_mpg_2004_2008 =df_mpg4.drop(['Make', 'Model', 'Engine Displacement', 'Cylinders', 'Transmission', 'Drivetrain', 'Vehicle Class', 'Fuel Type', 'Fuel Barrels/Year', 'City MPG', 'Highway MPG', 'CO2 Emission Grams/Mile', 'Fuel Cost/Year'],axis='columns')\n",
    "df_mpg_2004_2008.tail()"
   ]
  },
  {
   "cell_type": "code",
   "execution_count": 585,
   "id": "f67de7d5-6387-4229-8e72-387d85fc85c7",
   "metadata": {
    "tags": []
   },
   "outputs": [
    {
     "name": "stdout",
     "output_type": "stream",
     "text": [
      "19.0\n"
     ]
    }
   ],
   "source": [
    "mid_2004_2008 = df_mpg_2004_2008['Combined MPG'].median()\n",
    "print(mid_2004_2008)"
   ]
  },
  {
   "cell_type": "code",
   "execution_count": 586,
   "id": "f5cd2626-7d0b-45f2-a0b4-8c2f8fae1143",
   "metadata": {
    "tags": []
   },
   "outputs": [
    {
     "name": "stdout",
     "output_type": "stream",
     "text": [
      "[(2004, 2008), 19.0]\n"
     ]
    }
   ],
   "source": [
    "l5=[(2004, 2008),mid_2004_2008]\n",
    "print(l5)"
   ]
  },
  {
   "cell_type": "code",
   "execution_count": 587,
   "id": "e5a58f6b-eda6-41cc-ae36-369e21689a94",
   "metadata": {
    "tags": []
   },
   "outputs": [
    {
     "data": {
      "text/html": [
       "<div>\n",
       "<style scoped>\n",
       "    .dataframe tbody tr th:only-of-type {\n",
       "        vertical-align: middle;\n",
       "    }\n",
       "\n",
       "    .dataframe tbody tr th {\n",
       "        vertical-align: top;\n",
       "    }\n",
       "\n",
       "    .dataframe thead th {\n",
       "        text-align: right;\n",
       "    }\n",
       "</style>\n",
       "<table border=\"1\" class=\"dataframe\">\n",
       "  <thead>\n",
       "    <tr style=\"text-align: right;\">\n",
       "      <th></th>\n",
       "      <th>Year</th>\n",
       "      <th>Combined MPG</th>\n",
       "    </tr>\n",
       "  </thead>\n",
       "  <tbody>\n",
       "    <tr>\n",
       "      <th>35943</th>\n",
       "      <td>2009</td>\n",
       "      <td>36</td>\n",
       "    </tr>\n",
       "    <tr>\n",
       "      <th>35944</th>\n",
       "      <td>2010</td>\n",
       "      <td>36</td>\n",
       "    </tr>\n",
       "    <tr>\n",
       "      <th>35945</th>\n",
       "      <td>2011</td>\n",
       "      <td>36</td>\n",
       "    </tr>\n",
       "    <tr>\n",
       "      <th>35946</th>\n",
       "      <td>2012</td>\n",
       "      <td>36</td>\n",
       "    </tr>\n",
       "    <tr>\n",
       "      <th>35947</th>\n",
       "      <td>2013</td>\n",
       "      <td>36</td>\n",
       "    </tr>\n",
       "  </tbody>\n",
       "</table>\n",
       "</div>"
      ],
      "text/plain": [
       "       Year  Combined MPG\n",
       "35943  2009            36\n",
       "35944  2010            36\n",
       "35945  2011            36\n",
       "35946  2012            36\n",
       "35947  2013            36"
      ]
     },
     "execution_count": 587,
     "metadata": {},
     "output_type": "execute_result"
    }
   ],
   "source": [
    "df_mpg5 = df[df['Year'].between(2009, 2013)]\n",
    "df_mpg_2009_2013 =df_mpg5.drop(['Make', 'Model', 'Engine Displacement', 'Cylinders', 'Transmission', 'Drivetrain', 'Vehicle Class', 'Fuel Type', 'Fuel Barrels/Year', 'City MPG', 'Highway MPG', 'CO2 Emission Grams/Mile', 'Fuel Cost/Year'],axis='columns')\n",
    "df_mpg_2009_2013.tail()"
   ]
  },
  {
   "cell_type": "code",
   "execution_count": 588,
   "id": "6f3ffbb1-2702-46bd-8a47-6c91568465d4",
   "metadata": {
    "tags": []
   },
   "outputs": [
    {
     "name": "stdout",
     "output_type": "stream",
     "text": [
      "21.0\n"
     ]
    }
   ],
   "source": [
    "mid_2009_2013 = df_mpg_2009_2013['Combined MPG'].median()\n",
    "print(mid_2009_2013)"
   ]
  },
  {
   "cell_type": "code",
   "execution_count": 589,
   "id": "88106035-2e85-49bd-abd7-e280313b3104",
   "metadata": {
    "tags": []
   },
   "outputs": [
    {
     "name": "stdout",
     "output_type": "stream",
     "text": [
      "[(2009, 2013), 21.0]\n"
     ]
    }
   ],
   "source": [
    "l6=[(2009, 2013),mid_2009_2013]\n",
    "print(l6)"
   ]
  },
  {
   "cell_type": "code",
   "execution_count": 590,
   "id": "a2ae7c30-db9e-44e0-ac42-493fe84fcb29",
   "metadata": {
    "tags": []
   },
   "outputs": [
    {
     "data": {
      "text/html": [
       "<div>\n",
       "<style scoped>\n",
       "    .dataframe tbody tr th:only-of-type {\n",
       "        vertical-align: middle;\n",
       "    }\n",
       "\n",
       "    .dataframe tbody tr th {\n",
       "        vertical-align: top;\n",
       "    }\n",
       "\n",
       "    .dataframe thead th {\n",
       "        text-align: right;\n",
       "    }\n",
       "</style>\n",
       "<table border=\"1\" class=\"dataframe\">\n",
       "  <thead>\n",
       "    <tr style=\"text-align: right;\">\n",
       "      <th></th>\n",
       "      <th>Year</th>\n",
       "      <th>Combined MPG</th>\n",
       "    </tr>\n",
       "  </thead>\n",
       "  <tbody>\n",
       "    <tr>\n",
       "      <th>35939</th>\n",
       "      <td>2017</td>\n",
       "      <td>34</td>\n",
       "    </tr>\n",
       "    <tr>\n",
       "      <th>35948</th>\n",
       "      <td>2014</td>\n",
       "      <td>36</td>\n",
       "    </tr>\n",
       "    <tr>\n",
       "      <th>35949</th>\n",
       "      <td>2015</td>\n",
       "      <td>36</td>\n",
       "    </tr>\n",
       "    <tr>\n",
       "      <th>35950</th>\n",
       "      <td>2016</td>\n",
       "      <td>36</td>\n",
       "    </tr>\n",
       "    <tr>\n",
       "      <th>35951</th>\n",
       "      <td>2016</td>\n",
       "      <td>35</td>\n",
       "    </tr>\n",
       "  </tbody>\n",
       "</table>\n",
       "</div>"
      ],
      "text/plain": [
       "       Year  Combined MPG\n",
       "35939  2017            34\n",
       "35948  2014            36\n",
       "35949  2015            36\n",
       "35950  2016            36\n",
       "35951  2016            35"
      ]
     },
     "execution_count": 590,
     "metadata": {},
     "output_type": "execute_result"
    }
   ],
   "source": [
    "df_mpg6 = df[df['Year'].between(2014, 2018)]\n",
    "df_mpg_2014_2018 =df_mpg6.drop(['Make', 'Model', 'Engine Displacement', 'Cylinders', 'Transmission', 'Drivetrain', 'Vehicle Class', 'Fuel Type', 'Fuel Barrels/Year', 'City MPG', 'Highway MPG', 'CO2 Emission Grams/Mile', 'Fuel Cost/Year'],axis='columns')\n",
    "df_mpg_2014_2018.tail()"
   ]
  },
  {
   "cell_type": "code",
   "execution_count": 591,
   "id": "b056e2d3-d252-44b1-9935-a2c4398a0a42",
   "metadata": {
    "tags": []
   },
   "outputs": [
    {
     "name": "stdout",
     "output_type": "stream",
     "text": [
      "22.0\n"
     ]
    }
   ],
   "source": [
    "mid_2014_2018 = df_mpg_2014_2018['Combined MPG'].median()\n",
    "print(mid_2014_2018)"
   ]
  },
  {
   "cell_type": "code",
   "execution_count": 592,
   "id": "87763066-17d3-4ff3-a863-a9fac9d87330",
   "metadata": {
    "tags": []
   },
   "outputs": [
    {
     "name": "stdout",
     "output_type": "stream",
     "text": [
      "[(2014, 2018), 22.0]\n"
     ]
    }
   ],
   "source": [
    "l7=[(2014, 2018),mid_2014_2018]\n",
    "print(l7)"
   ]
  },
  {
   "cell_type": "code",
   "execution_count": 593,
   "id": "57a39363-db1c-4268-882f-ecdf90303126",
   "metadata": {
    "tags": []
   },
   "outputs": [
    {
     "name": "stdout",
     "output_type": "stream",
     "text": [
      "[[(1984, 1988), 19.0], [(1989, 1993), 18.0], [(1994, 1998), 19.0], [(1999, 2003), 19.0], [(2004, 2008), 19.0], [(2009, 2013), 21.0], [(2014, 2018), 22.0]]\n"
     ]
    }
   ],
   "source": [
    "Q7= [l1] + [l2] + [l3] + [l4] + [l5] + [l6] + [l7]\n",
    "\n",
    "print(Q7)"
   ]
  },
  {
   "cell_type": "code",
   "execution_count": null,
   "id": "4922cc27-08f3-4106-ab6e-aa415e35b471",
   "metadata": {},
   "outputs": [],
   "source": []
  }
 ],
 "metadata": {
  "kernelspec": {
   "display_name": "Python 3 (ipykernel)",
   "language": "python",
   "name": "python3"
  },
  "language_info": {
   "codemirror_mode": {
    "name": "ipython",
    "version": 3
   },
   "file_extension": ".py",
   "mimetype": "text/x-python",
   "name": "python",
   "nbconvert_exporter": "python",
   "pygments_lexer": "ipython3",
   "version": "3.11.3"
  }
 },
 "nbformat": 4,
 "nbformat_minor": 5
}
